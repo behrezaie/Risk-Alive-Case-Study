{
 "cells": [
  {
   "cell_type": "markdown",
   "id": "e8c355d9",
   "metadata": {},
   "source": [
    "## Risk Alive ML/NL Case Study: Text Classification using DBpedia14 Dataset\n"
   ]
  },
  {
   "cell_type": "markdown",
   "id": "7527f539",
   "metadata": {},
   "source": [
    "## Objective\n",
    "\n",
    "This case study is comprimised of 2 steps:\n",
    "\n",
    "1. We are going to use python to deploy a web service that provides a text classification service using ML and NLP on provided training and testing data. This simple web service will only require the user to provide a text. It is preferred that we allow the user to upload a CSV file that contains the text, but we can also choose to ask the user to type the text in a text box, the web service will then provide the user with the most related topic to the entered text among the 14 labels.\n",
    "\n",
    "2. Instead of useing provided training and testing data, which are selected rows from **DBpedia14** dataset, in this step we are going to use the full dataset. Considering that we now have extra amount of data, we should update our model, and comment on the model performance after integrating the new dataset. We should deploy the model, and update our web service so it uses the most recent version of the model."
   ]
  },
  {
   "cell_type": "markdown",
   "id": "cf82093f",
   "metadata": {},
   "source": [
    "## DBpedia Dataset\n",
    "\n",
    "### Dataset Summary:\n",
    "The DBpedia ontology classification dataset is constructed by picking 14 non-overlapping classes from DBpedia 2014. They are listed in classes.txt. From each of thse 14 ontology classes, we randomly choose 40,000 training samples and 5,000 testing samples. Therefore, the total size of the training dataset is 560,000 and testing dataset 70,000. There are 3 columns in the dataset (same for train and test splits), corresponding to class index (1 to 14), title and content. The title and content are escaped using double quotes (\"), and any internal double quote is escaped by 2 double quotes (\"\"). There are no new lines in title or content.\n",
    "\n",
    "- Download [Training set](https://drive.google.com/file/d/1TDd7B33nyOwa9grlerAjXCs2Jj1wEb7t/view?usp=sharing)\n",
    "- Download [Testing set](https://drive.google.com/file/d/1Bs1Nu_wNhoJaNZY8Rkzvj5V7A8h37nDk/view?usp=sharing)\n",
    "- About [DBpedia14](https://huggingface.co/datasets/viewer/?dataset=dbpedia_14)\n",
    "\n"
   ]
  },
  {
   "cell_type": "markdown",
   "id": "23cefb57",
   "metadata": {},
   "source": [
    "## Importing requiered libraries and modules\n",
    "\n",
    "We are going to use a few libraries and modules in this project. So, the very first step is to import them:"
   ]
  },
  {
   "cell_type": "code",
   "execution_count": 2,
   "id": "2d18c100",
   "metadata": {},
   "outputs": [],
   "source": [
    "import os\n",
    "import pandas as pd\n",
    "import numpy as np\n",
    "import matplotlib.pyplot as plt\n",
    "import seaborn as sns\n",
    "from sklearn.feature_extraction.text import CountVectorizer\n",
    "from sklearn.feature_extraction.text import TfidfTransformer\n",
    "from sklearn.naive_bayes import MultinomialNB\n",
    "from sklearn.pipeline import Pipeline\n",
    "from sklearn import metrics\n",
    "from sklearn.metrics import confusion_matrix\n",
    "from sklearn.model_selection import GridSearchCV\n",
    "from sklearn.neighbors import KNeighborsClassifier\n",
    "from sklearn.tree import DecisionTreeClassifier\n",
    "from sklearn.ensemble import RandomForestClassifier\n",
    "from sklearn.linear_model import SGDClassifier\n",
    "from sklearn.svm import SVC\n",
    "from sklearn.feature_selection import SelectKBest, chi2\n",
    "from sklearn import metrics\n",
    "import joblib"
   ]
  },
  {
   "cell_type": "markdown",
   "id": "da81790f",
   "metadata": {},
   "source": [
    "If any of the libraries is missing in your Python, you can easily add it using `pip` command.\n",
    "\n",
    "- in the command line: \n",
    "    - `pip install <library_name>` \n",
    "- or you can uncomment the following code cell and then run it to install pandas for example."
   ]
  },
  {
   "cell_type": "code",
   "execution_count": 2,
   "id": "0c4f7f99",
   "metadata": {},
   "outputs": [],
   "source": [
    "#!pip3 install pandas"
   ]
  },
  {
   "cell_type": "markdown",
   "id": "339633d0",
   "metadata": {},
   "source": [
    "# Step 1:"
   ]
  },
  {
   "cell_type": "markdown",
   "id": "7af877ec",
   "metadata": {},
   "source": [
    "## Loading provided datasets:\n",
    "\n",
    "I have download the provided datasets in advance and placed them in `data` folder in the main projects foder. Now I use the following commands to read them and put them into pandas dataframes:"
   ]
  },
  {
   "cell_type": "code",
   "execution_count": 3,
   "id": "b1d56dbb",
   "metadata": {},
   "outputs": [],
   "source": [
    "training_df = pd.read_csv(os.getcwd() + r'\\data\\train.csv')\n",
    "testing_df = pd.read_csv(os.getcwd() + r'\\data\\test.csv')"
   ]
  },
  {
   "cell_type": "markdown",
   "id": "9ee94642",
   "metadata": {},
   "source": [
    "Now that we have our training and testing sets in a dataframe, let's see what are their shapes."
   ]
  },
  {
   "cell_type": "code",
   "execution_count": 4,
   "id": "0b810ae4",
   "metadata": {},
   "outputs": [
    {
     "data": {
      "text/plain": [
       "((1000, 3), (70000, 3))"
      ]
     },
     "execution_count": 4,
     "metadata": {},
     "output_type": "execute_result"
    }
   ],
   "source": [
    "training_df.shape, testing_df.shape"
   ]
  },
  {
   "cell_type": "markdown",
   "id": "c781578c",
   "metadata": {},
   "source": [
    "We have 1000 rows and 3 features in our training set, and 70,000 rows and 3 features in our testing set. We always use the most part of the full dataset for training and a small part for testing. But in this case the training set has way less rows than the testing set. \n",
    "\n",
    "Anyways, let's take a look at first 20 rows of training data:"
   ]
  },
  {
   "cell_type": "code",
   "execution_count": 5,
   "id": "d40f06ac",
   "metadata": {},
   "outputs": [
    {
     "data": {
      "text/html": [
       "<div>\n",
       "<style scoped>\n",
       "    .dataframe tbody tr th:only-of-type {\n",
       "        vertical-align: middle;\n",
       "    }\n",
       "\n",
       "    .dataframe tbody tr th {\n",
       "        vertical-align: top;\n",
       "    }\n",
       "\n",
       "    .dataframe thead th {\n",
       "        text-align: right;\n",
       "    }\n",
       "</style>\n",
       "<table border=\"1\" class=\"dataframe\">\n",
       "  <thead>\n",
       "    <tr style=\"text-align: right;\">\n",
       "      <th></th>\n",
       "      <th>label</th>\n",
       "      <th>title</th>\n",
       "      <th>content</th>\n",
       "    </tr>\n",
       "  </thead>\n",
       "  <tbody>\n",
       "    <tr>\n",
       "      <th>0</th>\n",
       "      <td>7</td>\n",
       "      <td>Joppenbergh Mountain</td>\n",
       "      <td>Joppenbergh Mountain is a nearly 500-foot (15...</td>\n",
       "    </tr>\n",
       "    <tr>\n",
       "      <th>1</th>\n",
       "      <td>11</td>\n",
       "      <td>Open Heart Surgery</td>\n",
       "      <td>Open Heart Surgery was released on August 8 2...</td>\n",
       "    </tr>\n",
       "    <tr>\n",
       "      <th>2</th>\n",
       "      <td>6</td>\n",
       "      <td>Church of SS Peter &amp; Paul Aston</td>\n",
       "      <td>The Parish Church of St Peter and St Paul (gr...</td>\n",
       "    </tr>\n",
       "    <tr>\n",
       "      <th>3</th>\n",
       "      <td>12</td>\n",
       "      <td>Cheran Chozhan Pandian</td>\n",
       "      <td>Cheran Chozhan Pandian is a 1998 Tamil comedy...</td>\n",
       "    </tr>\n",
       "    <tr>\n",
       "      <th>4</th>\n",
       "      <td>12</td>\n",
       "      <td>A Shot in the Dark (1933 film)</td>\n",
       "      <td>A Shot in the Dark is a 1933 British mystery ...</td>\n",
       "    </tr>\n",
       "    <tr>\n",
       "      <th>5</th>\n",
       "      <td>13</td>\n",
       "      <td>Worthy Is the Lamb</td>\n",
       "      <td>Worthy is the Lamb is an outdoor drama which ...</td>\n",
       "    </tr>\n",
       "    <tr>\n",
       "      <th>6</th>\n",
       "      <td>4</td>\n",
       "      <td>Hisakazu Tanaka</td>\n",
       "      <td>Hisakazu Tanaka (田中 久一 Tanaka Hisakazu 16 Mar...</td>\n",
       "    </tr>\n",
       "    <tr>\n",
       "      <th>7</th>\n",
       "      <td>7</td>\n",
       "      <td>Pârâul Ştreaurilor</td>\n",
       "      <td>The Pârâul Ștreaurilor is a tributary of the ...</td>\n",
       "    </tr>\n",
       "    <tr>\n",
       "      <th>8</th>\n",
       "      <td>5</td>\n",
       "      <td>HMAS Snipe</td>\n",
       "      <td>HMAS Snipe (M1102) (formerly HMS Alcaston) wa...</td>\n",
       "    </tr>\n",
       "    <tr>\n",
       "      <th>9</th>\n",
       "      <td>0</td>\n",
       "      <td>Anjali Mukerjee's Health Total</td>\n",
       "      <td>Health Total cofounded by Dr. Anjali Mukerjee...</td>\n",
       "    </tr>\n",
       "    <tr>\n",
       "      <th>10</th>\n",
       "      <td>6</td>\n",
       "      <td>Adams Avenue Bridge</td>\n",
       "      <td>The Adams Avenue Bridge is a historic bridge ...</td>\n",
       "    </tr>\n",
       "    <tr>\n",
       "      <th>11</th>\n",
       "      <td>2</td>\n",
       "      <td>Jason Farol</td>\n",
       "      <td>Jason Farol (born April 3 1989) Is an America...</td>\n",
       "    </tr>\n",
       "    <tr>\n",
       "      <th>12</th>\n",
       "      <td>3</td>\n",
       "      <td>Masaki Yoshida</td>\n",
       "      <td>Masaki Yoshida (吉田 正樹 Yoshida Masaki born Apr...</td>\n",
       "    </tr>\n",
       "    <tr>\n",
       "      <th>13</th>\n",
       "      <td>9</td>\n",
       "      <td>White Sea herring</td>\n",
       "      <td>The White Sea herring Clupea pallasii marisal...</td>\n",
       "    </tr>\n",
       "    <tr>\n",
       "      <th>14</th>\n",
       "      <td>6</td>\n",
       "      <td>Hubbard Park Historic District</td>\n",
       "      <td>The Hubbard Park Historic District encompasse...</td>\n",
       "    </tr>\n",
       "    <tr>\n",
       "      <th>15</th>\n",
       "      <td>9</td>\n",
       "      <td>Charaxes cynthia</td>\n",
       "      <td>Charaxes cynthia the Western Red Charaxes is ...</td>\n",
       "    </tr>\n",
       "    <tr>\n",
       "      <th>16</th>\n",
       "      <td>2</td>\n",
       "      <td>Eugeniusz Geno Malkowski</td>\n",
       "      <td>Eugeniusz Geno Małkowski (Polish pronunciatio...</td>\n",
       "    </tr>\n",
       "    <tr>\n",
       "      <th>17</th>\n",
       "      <td>2</td>\n",
       "      <td>Masato Hagiwara</td>\n",
       "      <td>Masato Hagiwara (萩原 聖人 Hagiwara Masato born A...</td>\n",
       "    </tr>\n",
       "    <tr>\n",
       "      <th>18</th>\n",
       "      <td>5</td>\n",
       "      <td>HSC Dubravka</td>\n",
       "      <td>HSC Dubravka is a catamaran type passenger sh...</td>\n",
       "    </tr>\n",
       "    <tr>\n",
       "      <th>19</th>\n",
       "      <td>10</td>\n",
       "      <td>Ptychosema</td>\n",
       "      <td>Ptychosema is a genus of flowering plants in ...</td>\n",
       "    </tr>\n",
       "  </tbody>\n",
       "</table>\n",
       "</div>"
      ],
      "text/plain": [
       "    label                            title  \\\n",
       "0       7             Joppenbergh Mountain   \n",
       "1      11               Open Heart Surgery   \n",
       "2       6  Church of SS Peter & Paul Aston   \n",
       "3      12           Cheran Chozhan Pandian   \n",
       "4      12   A Shot in the Dark (1933 film)   \n",
       "5      13               Worthy Is the Lamb   \n",
       "6       4                  Hisakazu Tanaka   \n",
       "7       7               Pârâul Ştreaurilor   \n",
       "8       5                       HMAS Snipe   \n",
       "9       0   Anjali Mukerjee's Health Total   \n",
       "10      6              Adams Avenue Bridge   \n",
       "11      2                      Jason Farol   \n",
       "12      3                   Masaki Yoshida   \n",
       "13      9                White Sea herring   \n",
       "14      6   Hubbard Park Historic District   \n",
       "15      9                 Charaxes cynthia   \n",
       "16      2         Eugeniusz Geno Malkowski   \n",
       "17      2                  Masato Hagiwara   \n",
       "18      5                     HSC Dubravka   \n",
       "19     10                       Ptychosema   \n",
       "\n",
       "                                              content  \n",
       "0    Joppenbergh Mountain is a nearly 500-foot (15...  \n",
       "1    Open Heart Surgery was released on August 8 2...  \n",
       "2    The Parish Church of St Peter and St Paul (gr...  \n",
       "3    Cheran Chozhan Pandian is a 1998 Tamil comedy...  \n",
       "4    A Shot in the Dark is a 1933 British mystery ...  \n",
       "5    Worthy is the Lamb is an outdoor drama which ...  \n",
       "6    Hisakazu Tanaka (田中 久一 Tanaka Hisakazu 16 Mar...  \n",
       "7    The Pârâul Ștreaurilor is a tributary of the ...  \n",
       "8    HMAS Snipe (M1102) (formerly HMS Alcaston) wa...  \n",
       "9    Health Total cofounded by Dr. Anjali Mukerjee...  \n",
       "10   The Adams Avenue Bridge is a historic bridge ...  \n",
       "11   Jason Farol (born April 3 1989) Is an America...  \n",
       "12   Masaki Yoshida (吉田 正樹 Yoshida Masaki born Apr...  \n",
       "13   The White Sea herring Clupea pallasii marisal...  \n",
       "14   The Hubbard Park Historic District encompasse...  \n",
       "15   Charaxes cynthia the Western Red Charaxes is ...  \n",
       "16   Eugeniusz Geno Małkowski (Polish pronunciatio...  \n",
       "17   Masato Hagiwara (萩原 聖人 Hagiwara Masato born A...  \n",
       "18   HSC Dubravka is a catamaran type passenger sh...  \n",
       "19   Ptychosema is a genus of flowering plants in ...  "
      ]
     },
     "execution_count": 5,
     "metadata": {},
     "output_type": "execute_result"
    }
   ],
   "source": [
    "training_df.head(20)"
   ]
  },
  {
   "cell_type": "markdown",
   "id": "b935d960",
   "metadata": {},
   "source": [
    "Since we don't want duplicate instances to affect our model, let's check and see if we have duplicate rows in our training set:"
   ]
  },
  {
   "cell_type": "code",
   "execution_count": 6,
   "id": "2f992474",
   "metadata": {},
   "outputs": [
    {
     "data": {
      "text/html": [
       "<div>\n",
       "<style scoped>\n",
       "    .dataframe tbody tr th:only-of-type {\n",
       "        vertical-align: middle;\n",
       "    }\n",
       "\n",
       "    .dataframe tbody tr th {\n",
       "        vertical-align: top;\n",
       "    }\n",
       "\n",
       "    .dataframe thead th {\n",
       "        text-align: right;\n",
       "    }\n",
       "</style>\n",
       "<table border=\"1\" class=\"dataframe\">\n",
       "  <thead>\n",
       "    <tr style=\"text-align: right;\">\n",
       "      <th></th>\n",
       "      <th>label</th>\n",
       "      <th>title</th>\n",
       "      <th>content</th>\n",
       "    </tr>\n",
       "  </thead>\n",
       "  <tbody>\n",
       "    <tr>\n",
       "      <th>0</th>\n",
       "      <td>7</td>\n",
       "      <td>Joppenbergh Mountain</td>\n",
       "      <td>Joppenbergh Mountain is a nearly 500-foot (15...</td>\n",
       "    </tr>\n",
       "    <tr>\n",
       "      <th>1</th>\n",
       "      <td>11</td>\n",
       "      <td>Open Heart Surgery</td>\n",
       "      <td>Open Heart Surgery was released on August 8 2...</td>\n",
       "    </tr>\n",
       "    <tr>\n",
       "      <th>2</th>\n",
       "      <td>6</td>\n",
       "      <td>Church of SS Peter &amp; Paul Aston</td>\n",
       "      <td>The Parish Church of St Peter and St Paul (gr...</td>\n",
       "    </tr>\n",
       "    <tr>\n",
       "      <th>3</th>\n",
       "      <td>12</td>\n",
       "      <td>Cheran Chozhan Pandian</td>\n",
       "      <td>Cheran Chozhan Pandian is a 1998 Tamil comedy...</td>\n",
       "    </tr>\n",
       "    <tr>\n",
       "      <th>4</th>\n",
       "      <td>12</td>\n",
       "      <td>A Shot in the Dark (1933 film)</td>\n",
       "      <td>A Shot in the Dark is a 1933 British mystery ...</td>\n",
       "    </tr>\n",
       "    <tr>\n",
       "      <th>...</th>\n",
       "      <td>...</td>\n",
       "      <td>...</td>\n",
       "      <td>...</td>\n",
       "    </tr>\n",
       "    <tr>\n",
       "      <th>995</th>\n",
       "      <td>9</td>\n",
       "      <td>Pacific horned frog</td>\n",
       "      <td>The Pacific Horned Frog (Ceratophrys stolzman...</td>\n",
       "    </tr>\n",
       "    <tr>\n",
       "      <th>996</th>\n",
       "      <td>6</td>\n",
       "      <td>Second Presbyterian Church (Birmingham Alabama)</td>\n",
       "      <td>Second Presbyterian Church is a historic chur...</td>\n",
       "    </tr>\n",
       "    <tr>\n",
       "      <th>997</th>\n",
       "      <td>13</td>\n",
       "      <td>The Bravo</td>\n",
       "      <td>The Bravo is a novel by James Fenimore Cooper...</td>\n",
       "    </tr>\n",
       "    <tr>\n",
       "      <th>998</th>\n",
       "      <td>0</td>\n",
       "      <td>Artizone</td>\n",
       "      <td>Artizone is an online food delivery service c...</td>\n",
       "    </tr>\n",
       "    <tr>\n",
       "      <th>999</th>\n",
       "      <td>9</td>\n",
       "      <td>Asura compsodes</td>\n",
       "      <td>Asura compsodes is a moth of the Arctiidae fa...</td>\n",
       "    </tr>\n",
       "  </tbody>\n",
       "</table>\n",
       "<p>1000 rows × 3 columns</p>\n",
       "</div>"
      ],
      "text/plain": [
       "     label                                            title  \\\n",
       "0        7                             Joppenbergh Mountain   \n",
       "1       11                               Open Heart Surgery   \n",
       "2        6                  Church of SS Peter & Paul Aston   \n",
       "3       12                           Cheran Chozhan Pandian   \n",
       "4       12                   A Shot in the Dark (1933 film)   \n",
       "..     ...                                              ...   \n",
       "995      9                              Pacific horned frog   \n",
       "996      6  Second Presbyterian Church (Birmingham Alabama)   \n",
       "997     13                                        The Bravo   \n",
       "998      0                                         Artizone   \n",
       "999      9                                  Asura compsodes   \n",
       "\n",
       "                                               content  \n",
       "0     Joppenbergh Mountain is a nearly 500-foot (15...  \n",
       "1     Open Heart Surgery was released on August 8 2...  \n",
       "2     The Parish Church of St Peter and St Paul (gr...  \n",
       "3     Cheran Chozhan Pandian is a 1998 Tamil comedy...  \n",
       "4     A Shot in the Dark is a 1933 British mystery ...  \n",
       "..                                                 ...  \n",
       "995   The Pacific Horned Frog (Ceratophrys stolzman...  \n",
       "996   Second Presbyterian Church is a historic chur...  \n",
       "997   The Bravo is a novel by James Fenimore Cooper...  \n",
       "998   Artizone is an online food delivery service c...  \n",
       "999   Asura compsodes is a moth of the Arctiidae fa...  \n",
       "\n",
       "[1000 rows x 3 columns]"
      ]
     },
     "execution_count": 6,
     "metadata": {},
     "output_type": "execute_result"
    }
   ],
   "source": [
    "training_df.drop_duplicates()"
   ]
  },
  {
   "cell_type": "markdown",
   "id": "2a90589f",
   "metadata": {},
   "source": [
    "Having the same rows and columns after running `drop_duplicates()` will show that we didn't have any duplicate rows."
   ]
  },
  {
   "cell_type": "code",
   "execution_count": 7,
   "id": "376c39e8",
   "metadata": {},
   "outputs": [
    {
     "name": "stdout",
     "output_type": "stream",
     "text": [
      "<class 'pandas.core.frame.DataFrame'>\n",
      "RangeIndex: 1000 entries, 0 to 999\n",
      "Data columns (total 3 columns):\n",
      " #   Column   Non-Null Count  Dtype \n",
      "---  ------   --------------  ----- \n",
      " 0   label    1000 non-null   int64 \n",
      " 1   title    1000 non-null   object\n",
      " 2   content  1000 non-null   object\n",
      "dtypes: int64(1), object(2)\n",
      "memory usage: 23.6+ KB\n"
     ]
    }
   ],
   "source": [
    "training_df.info()"
   ]
  },
  {
   "cell_type": "markdown",
   "id": "65974560",
   "metadata": {},
   "source": [
    "`info()` shows that our `label` feature is of integer type, and both `title` and `content` features are string type. Besides, since all the features have 1000 Non-Null values, we conclude that we don't have missing values in our training set."
   ]
  },
  {
   "cell_type": "markdown",
   "id": "cc62668a",
   "metadata": {},
   "source": [
    "Let's see how many samples we have for each label in our training set:"
   ]
  },
  {
   "cell_type": "code",
   "execution_count": 8,
   "id": "01f26f1c",
   "metadata": {},
   "outputs": [
    {
     "data": {
      "text/plain": [
       "0     75\n",
       "1     71\n",
       "2     64\n",
       "3     74\n",
       "4     65\n",
       "5     67\n",
       "6     88\n",
       "7     64\n",
       "8     79\n",
       "9     77\n",
       "10    66\n",
       "11    73\n",
       "12    63\n",
       "13    74\n",
       "Name: label, dtype: int64"
      ]
     },
     "execution_count": 8,
     "metadata": {},
     "output_type": "execute_result"
    }
   ],
   "source": [
    "training_df.label.value_counts().sort_index()"
   ]
  },
  {
   "cell_type": "code",
   "execution_count": 9,
   "id": "96d915bb",
   "metadata": {},
   "outputs": [
    {
     "data": {
      "image/png": "[encoded data removed]",
      "text/plain": [
       "<Figure size 576x432 with 1 Axes>"
      ]
     },
     "metadata": {
      "needs_background": "light"
     },
     "output_type": "display_data"
    }
   ],
   "source": [
    "fig = plt.figure(figsize=(8,6))\n",
    "training_df.groupby('label').content.count().plot.bar(ylim=0)\n",
    "plt.show()"
   ]
  },
  {
   "cell_type": "markdown",
   "id": "d08d8137",
   "metadata": {},
   "source": [
    "As above figure illustrates, we have an imbalanced dataset. However, since the number of samples for all the labels are close enough (around 65-80) it can be left as it is. Anyways, We are going to check the confusion matrix of our models to have a better understanding of how our models perform on the training set."
   ]
  },
  {
   "cell_type": "markdown",
   "id": "cc4827b4",
   "metadata": {},
   "source": [
    "## Training and Testing features and target values\n",
    "\n",
    "Considering the objective of this case study and looking at the features, it's obviouse that our `label` feature is our target value (y). Moreover, `title` values seem to be redundant because apparently titles are the exact first words of the `content` values. Therefore, We are going to use `content` feature to train the model and predict the values of `label` for each content (X)."
   ]
  },
  {
   "cell_type": "code",
   "execution_count": 10,
   "id": "8011b5ef",
   "metadata": {},
   "outputs": [
    {
     "data": {
      "text/plain": [
       "(0       Joppenbergh Mountain is a nearly 500-foot (15...\n",
       " 1       Open Heart Surgery was released on August 8 2...\n",
       " 2       The Parish Church of St Peter and St Paul (gr...\n",
       " 3       Cheran Chozhan Pandian is a 1998 Tamil comedy...\n",
       " 4       A Shot in the Dark is a 1933 British mystery ...\n",
       "                              ...                        \n",
       " 995     The Pacific Horned Frog (Ceratophrys stolzman...\n",
       " 996     Second Presbyterian Church is a historic chur...\n",
       " 997     The Bravo is a novel by James Fenimore Cooper...\n",
       " 998     Artizone is an online food delivery service c...\n",
       " 999     Asura compsodes is a moth of the Arctiidae fa...\n",
       " Name: content, Length: 1000, dtype: object,\n",
       " 0       7\n",
       " 1      11\n",
       " 2       6\n",
       " 3      12\n",
       " 4      12\n",
       "        ..\n",
       " 995     9\n",
       " 996     6\n",
       " 997    13\n",
       " 998     0\n",
       " 999     9\n",
       " Name: label, Length: 1000, dtype: int64)"
      ]
     },
     "execution_count": 10,
     "metadata": {},
     "output_type": "execute_result"
    }
   ],
   "source": [
    "training_X = training_df.content\n",
    "training_y = training_df.label\n",
    "training_X, training_y"
   ]
  },
  {
   "cell_type": "code",
   "execution_count": 11,
   "id": "2dbd8fbd",
   "metadata": {},
   "outputs": [
    {
     "data": {
      "text/plain": [
       "(0         TY KU /taɪkuː/ is an American alcoholic bever...\n",
       " 1         OddLot Entertainment founded in 2001 by longt...\n",
       " 2         Henkel AG & Company KGaA operates worldwide w...\n",
       " 3         The GOAT Store (Games Of All Type Store) LLC ...\n",
       " 4         RagWing Aircraft Designs (also called the Rag...\n",
       "                                ...                        \n",
       " 69995     Energy Victory: Winning the War on Terror by ...\n",
       " 69996     Bestiario is a book of 8 short stories writte...\n",
       " 69997     Wuthering Heights is a novel by Emily Brontë ...\n",
       " 69998     L'Indépendant is a newspaper published in Lux...\n",
       " 69999     The Prophecy is the fifth novel by New York T...\n",
       " Name: content, Length: 70000, dtype: object,\n",
       " 0         0\n",
       " 1         0\n",
       " 2         0\n",
       " 3         0\n",
       " 4         0\n",
       "          ..\n",
       " 69995    13\n",
       " 69996    13\n",
       " 69997    13\n",
       " 69998    13\n",
       " 69999    13\n",
       " Name: label, Length: 70000, dtype: int64)"
      ]
     },
     "execution_count": 11,
     "metadata": {},
     "output_type": "execute_result"
    }
   ],
   "source": [
    "testing_X = testing_df.content\n",
    "testing_y = testing_df.label\n",
    "testing_X, testing_y"
   ]
  },
  {
   "cell_type": "markdown",
   "id": "2fc27219",
   "metadata": {},
   "source": [
    "## Extracting features from text\n",
    "\n",
    "In order to perform machine learning on text documents, we first need to turn the text into numerical feature vectors.  \n",
    "One way to do so is to use a **Bag of Words** representation. Bag of words is representation of text that describes the occurrence of words within a document. It does two things:\n",
    "\n",
    "1. Uses all the documents in the training set and builds a dictionary from all the words to integer indices\n",
    "2. Converts each document to a fixed length (equal to the length of dictionary) vector, where each index referes to it's corresponding word in the dictionary, and each value referes to the number of occurrences of that word in that document\n",
    "\n",
    "Since Bag of Words uses all the documnets in the training set to create the vocabulary, and then uses that to convert each document into vectors, the vectors would be so sparse. In order to save a lot of memory, vectors are usually saved as **spicy.sparse** matrices, where only non-zero parts of the feature vector is saved in the memory.\n",
    "\n",
    "Now we are going to use `CountVectorizer` on the training set as a Bag of Words. Text preprocessing, tokenizing and filtering of stopwords are all included in it."
   ]
  },
  {
   "cell_type": "code",
   "execution_count": 12,
   "id": "7b2d90be",
   "metadata": {},
   "outputs": [
    {
     "data": {
      "text/plain": [
       "<1000x10145 sparse matrix of type '<class 'numpy.int64'>'\n",
       "\twith 34850 stored elements in Compressed Sparse Row format>"
      ]
     },
     "execution_count": 12,
     "metadata": {},
     "output_type": "execute_result"
    }
   ],
   "source": [
    "count_vectorizer = CountVectorizer()\n",
    "training_X_count_vectors = count_vectorizer.fit_transform(training_X)\n",
    "training_X_count_vectors"
   ]
  },
  {
   "cell_type": "markdown",
   "id": "c2c20c64",
   "metadata": {},
   "source": [
    "As can be seen, we have one sparse matrix of size 1000x10145, which means our bag of words has 10145 feature names. It also indicates the number of non-zero elements stored in the sparse matrix (34,850)."
   ]
  },
  {
   "cell_type": "code",
   "execution_count": 13,
   "id": "16636274",
   "metadata": {},
   "outputs": [
    {
     "data": {
      "text/plain": [
       "10145"
      ]
     },
     "execution_count": 13,
     "metadata": {},
     "output_type": "execute_result"
    }
   ],
   "source": [
    "len(count_vectorizer.get_feature_names())"
   ]
  },
  {
   "cell_type": "markdown",
   "id": "67d36a46",
   "metadata": {},
   "source": [
    "Let's take a look at the first vector (in sparse matrix format):"
   ]
  },
  {
   "cell_type": "code",
   "execution_count": 14,
   "id": "1e4150b3",
   "metadata": {},
   "outputs": [
    {
     "name": "stdout",
     "output_type": "stream",
     "text": [
      "  (0, 4823)\t1\n",
      "  (0, 6035)\t3\n",
      "  (0, 4681)\t2\n",
      "  (0, 6175)\t1\n",
      "  (0, 455)\t1\n",
      "  (0, 3639)\t1\n",
      "  (0, 77)\t1\n",
      "  (0, 4536)\t4\n",
      "  (0, 7724)\t3\n",
      "  (0, 9505)\t1\n",
      "  (0, 4125)\t1\n",
      "  (0, 8945)\t4\n",
      "  (0, 9094)\t1\n",
      "  (0, 6401)\t3\n",
      "  (0, 9286)\t1\n",
      "  (0, 2419)\t1\n",
      "  (0, 6217)\t1\n",
      "  (0, 9856)\t1\n",
      "  (0, 2263)\t1\n",
      "  (0, 1820)\t1\n",
      "  (0, 1328)\t1\n",
      "  (0, 6586)\t1\n",
      "  (0, 1725)\t1\n",
      "  (0, 3896)\t1\n",
      "  (0, 2741)\t1\n",
      "  (0, 5704)\t1\n",
      "  (0, 4700)\t1\n",
      "  (0, 9607)\t2\n",
      "  (0, 6126)\t1\n",
      "  (0, 683)\t1\n",
      "  (0, 3689)\t1\n",
      "  (0, 4724)\t1\n",
      "  (0, 7783)\t1\n",
      "  (0, 853)\t1\n",
      "  (0, 5903)\t1\n",
      "  (0, 8996)\t1\n",
      "  (0, 5178)\t1\n",
      "  (0, 323)\t1\n",
      "  (0, 1915)\t1\n",
      "  (0, 3644)\t1\n",
      "  (0, 2932)\t1\n",
      "  (0, 8944)\t1\n",
      "  (0, 9367)\t1\n",
      "  (0, 5603)\t1\n",
      "  (0, 6155)\t1\n",
      "  (0, 1902)\t1\n"
     ]
    }
   ],
   "source": [
    "print(training_X_count_vectors[0])"
   ]
  },
  {
   "cell_type": "markdown",
   "id": "88bbd299",
   "metadata": {},
   "source": [
    "Let's take a look at all the words we have in our Bag of Words:"
   ]
  },
  {
   "cell_type": "code",
   "execution_count": 15,
   "id": "7fc0125c",
   "metadata": {},
   "outputs": [
    {
     "data": {
      "text/plain": [
       "['000234c',\n",
       " '003',\n",
       " '004',\n",
       " '01',\n",
       " '011',\n",
       " '03',\n",
       " '056',\n",
       " '06',\n",
       " '09',\n",
       " '10',\n",
       " '100',\n",
       " '1000',\n",
       " '1000m',\n",
       " '1012',\n",
       " '102',\n",
       " '1021',\n",
       " '1041000',\n",
       " '106',\n",
       " '1063',\n",
       " '108',\n",
       " '1092',\n",
       " '1093',\n",
       " '10th',\n",
       " '11',\n",
       " '110',\n",
       " '111',\n",
       " '1115',\n",
       " '1119',\n",
       " '112',\n",
       " '113',\n",
       " '1139',\n",
       " '11416',\n",
       " '1154',\n",
       " '1181',\n",
       " '119',\n",
       " '1195',\n",
       " '11th',\n",
       " '12',\n",
       " '1200',\n",
       " '1201',\n",
       " '1206',\n",
       " '1214',\n",
       " '123',\n",
       " '124',\n",
       " '1241',\n",
       " '1256',\n",
       " '127',\n",
       " '12th',\n",
       " '12½',\n",
       " '13',\n",
       " '130',\n",
       " '1300',\n",
       " '13000',\n",
       " '131',\n",
       " '1324',\n",
       " '13312',\n",
       " '135',\n",
       " '1355',\n",
       " '136',\n",
       " '137',\n",
       " '138',\n",
       " '139',\n",
       " '14',\n",
       " '140',\n",
       " '1400',\n",
       " '1409',\n",
       " '1433',\n",
       " '1437',\n",
       " '144',\n",
       " '1451',\n",
       " '149',\n",
       " '14th',\n",
       " '15',\n",
       " '150',\n",
       " '1500',\n",
       " '15000',\n",
       " '1508',\n",
       " '152',\n",
       " '1537',\n",
       " '155',\n",
       " '1553',\n",
       " '1554',\n",
       " '157078',\n",
       " '1586',\n",
       " '1587',\n",
       " '15th',\n",
       " '16',\n",
       " '160',\n",
       " '1611',\n",
       " '162',\n",
       " '1625',\n",
       " '163',\n",
       " '164',\n",
       " '165',\n",
       " '166',\n",
       " '1661',\n",
       " '167',\n",
       " '1692',\n",
       " '1699',\n",
       " '17',\n",
       " '1705',\n",
       " '1706',\n",
       " '171',\n",
       " '17132',\n",
       " '1715',\n",
       " '173',\n",
       " '1730s',\n",
       " '1735',\n",
       " '1737',\n",
       " '1739',\n",
       " '1742',\n",
       " '175',\n",
       " '1753',\n",
       " '17531',\n",
       " '1756',\n",
       " '1760',\n",
       " '1761',\n",
       " '1763',\n",
       " '1765',\n",
       " '1766',\n",
       " '1769',\n",
       " '177',\n",
       " '1770',\n",
       " '1775',\n",
       " '1779',\n",
       " '1785',\n",
       " '179',\n",
       " '1792',\n",
       " '1793',\n",
       " '1794',\n",
       " '1796',\n",
       " '1798',\n",
       " '17th',\n",
       " '18',\n",
       " '180',\n",
       " '1801',\n",
       " '1803',\n",
       " '1805',\n",
       " '1807',\n",
       " '1808',\n",
       " '1811',\n",
       " '1820',\n",
       " '182000',\n",
       " '1821',\n",
       " '1823',\n",
       " '1826',\n",
       " '1827',\n",
       " '1829',\n",
       " '1830',\n",
       " '1831',\n",
       " '1833',\n",
       " '1834',\n",
       " '1835',\n",
       " '1836',\n",
       " '184',\n",
       " '1841',\n",
       " '1844',\n",
       " '1847',\n",
       " '1848',\n",
       " '1850',\n",
       " '1852',\n",
       " '1853',\n",
       " '1854',\n",
       " '1856',\n",
       " '1857',\n",
       " '1858',\n",
       " '1859',\n",
       " '1860',\n",
       " '1861',\n",
       " '1862',\n",
       " '1863',\n",
       " '1864',\n",
       " '1865',\n",
       " '1866',\n",
       " '1867',\n",
       " '1868',\n",
       " '1869',\n",
       " '1870',\n",
       " '1873',\n",
       " '1874',\n",
       " '1875',\n",
       " '1876',\n",
       " '1877',\n",
       " '1878',\n",
       " '1879',\n",
       " '188',\n",
       " '1880',\n",
       " '1880s',\n",
       " '1881',\n",
       " '1882',\n",
       " '1883',\n",
       " '1884',\n",
       " '1885',\n",
       " '1886',\n",
       " '1887',\n",
       " '1888',\n",
       " '1889',\n",
       " '1890',\n",
       " '1891',\n",
       " '1892',\n",
       " '1893',\n",
       " '1894',\n",
       " '1895',\n",
       " '1896',\n",
       " '1897',\n",
       " '1898',\n",
       " '1899',\n",
       " '18th',\n",
       " '19',\n",
       " '190',\n",
       " '1900',\n",
       " '1901',\n",
       " '1902',\n",
       " '1903',\n",
       " '1904',\n",
       " '1905',\n",
       " '1906',\n",
       " '1907',\n",
       " '1908',\n",
       " '1909',\n",
       " '1910',\n",
       " '1911',\n",
       " '1912',\n",
       " '1913',\n",
       " '1914',\n",
       " '1915',\n",
       " '1916',\n",
       " '19160',\n",
       " '1917',\n",
       " '1918',\n",
       " '1919',\n",
       " '192',\n",
       " '1920',\n",
       " '1920s',\n",
       " '1921',\n",
       " '1923',\n",
       " '1924',\n",
       " '1925',\n",
       " '1926',\n",
       " '1927',\n",
       " '1928',\n",
       " '1929',\n",
       " '1930',\n",
       " '1930s',\n",
       " '1931',\n",
       " '1932',\n",
       " '1933',\n",
       " '1934',\n",
       " '1935',\n",
       " '1936',\n",
       " '1937',\n",
       " '1938',\n",
       " '1939',\n",
       " '194',\n",
       " '1940',\n",
       " '1941',\n",
       " '1942',\n",
       " '1943',\n",
       " '1944',\n",
       " '1945',\n",
       " '1946',\n",
       " '1947',\n",
       " '1948',\n",
       " '1949',\n",
       " '194th',\n",
       " '1950',\n",
       " '1950s',\n",
       " '1951',\n",
       " '1952',\n",
       " '1953',\n",
       " '1954',\n",
       " '1955',\n",
       " '1956',\n",
       " '1957',\n",
       " '1958',\n",
       " '1959',\n",
       " '1960',\n",
       " '1960s',\n",
       " '1961',\n",
       " '1962',\n",
       " '1963',\n",
       " '1964',\n",
       " '1965',\n",
       " '1966',\n",
       " '1967',\n",
       " '1968',\n",
       " '1969',\n",
       " '1970',\n",
       " '1970s',\n",
       " '1971',\n",
       " '1972',\n",
       " '1973',\n",
       " '1974',\n",
       " '1975',\n",
       " '1976',\n",
       " '1977',\n",
       " '1978',\n",
       " '1979',\n",
       " '198',\n",
       " '1980',\n",
       " '1980s',\n",
       " '1981',\n",
       " '1982',\n",
       " '1983',\n",
       " '1984',\n",
       " '1985',\n",
       " '1986',\n",
       " '1987',\n",
       " '1988',\n",
       " '1989',\n",
       " '198쪽',\n",
       " '199',\n",
       " '1990',\n",
       " '1990s',\n",
       " '1991',\n",
       " '1992',\n",
       " '1993',\n",
       " '1994',\n",
       " '1995',\n",
       " '1996',\n",
       " '1997',\n",
       " '1998',\n",
       " '1999',\n",
       " '19th',\n",
       " '20',\n",
       " '200',\n",
       " '2000',\n",
       " '2000s',\n",
       " '2001',\n",
       " '2002',\n",
       " '2003',\n",
       " '2004',\n",
       " '2005',\n",
       " '2006',\n",
       " '2007',\n",
       " '2008',\n",
       " '2009',\n",
       " '200th',\n",
       " '201',\n",
       " '2010',\n",
       " '2011',\n",
       " '2012',\n",
       " '2013',\n",
       " '2014',\n",
       " '2015',\n",
       " '2024',\n",
       " '205',\n",
       " '206',\n",
       " '207',\n",
       " '20th',\n",
       " '21',\n",
       " '210000',\n",
       " '215',\n",
       " '21r',\n",
       " '22',\n",
       " '2234',\n",
       " '22nd',\n",
       " '23',\n",
       " '230',\n",
       " '235',\n",
       " '238',\n",
       " '24',\n",
       " '2400',\n",
       " '243',\n",
       " '2434',\n",
       " '24th',\n",
       " '25',\n",
       " '250',\n",
       " '2516',\n",
       " '252792',\n",
       " '2550',\n",
       " '26',\n",
       " '260881',\n",
       " '261',\n",
       " '262',\n",
       " '26400',\n",
       " '267',\n",
       " '269',\n",
       " '26th',\n",
       " '27',\n",
       " '273',\n",
       " '274',\n",
       " '275',\n",
       " '277',\n",
       " '278',\n",
       " '28',\n",
       " '280',\n",
       " '28000',\n",
       " '282',\n",
       " '287',\n",
       " '28th',\n",
       " '29',\n",
       " '2a',\n",
       " '2nd',\n",
       " '2x',\n",
       " '30',\n",
       " '300',\n",
       " '304',\n",
       " '306',\n",
       " '3065',\n",
       " '307',\n",
       " '308',\n",
       " '30th',\n",
       " '31',\n",
       " '314',\n",
       " '32',\n",
       " '32000',\n",
       " '33',\n",
       " '3300',\n",
       " '34',\n",
       " '340',\n",
       " '3400',\n",
       " '342',\n",
       " '347',\n",
       " '3480',\n",
       " '35',\n",
       " '355',\n",
       " '356',\n",
       " '36',\n",
       " '360',\n",
       " '366',\n",
       " '37',\n",
       " '38',\n",
       " '38000',\n",
       " '3824',\n",
       " '39',\n",
       " '3r',\n",
       " '40',\n",
       " '400',\n",
       " '40000',\n",
       " '4008',\n",
       " '404',\n",
       " '409',\n",
       " '41',\n",
       " '41st',\n",
       " '42',\n",
       " '42nd',\n",
       " '43',\n",
       " '430',\n",
       " '432',\n",
       " '4344',\n",
       " '44',\n",
       " '440',\n",
       " '445',\n",
       " '45',\n",
       " '45th',\n",
       " '46',\n",
       " '46th',\n",
       " '47',\n",
       " '474',\n",
       " '479',\n",
       " '48',\n",
       " '49',\n",
       " '4th',\n",
       " '50',\n",
       " '500',\n",
       " '5000',\n",
       " '500000',\n",
       " '501',\n",
       " '50s',\n",
       " '50th',\n",
       " '51',\n",
       " '510',\n",
       " '5137',\n",
       " '53',\n",
       " '531',\n",
       " '535',\n",
       " '538',\n",
       " '54',\n",
       " '55',\n",
       " '550',\n",
       " '551',\n",
       " '5542',\n",
       " '56',\n",
       " '5607332',\n",
       " '567b',\n",
       " '57',\n",
       " '58',\n",
       " '59',\n",
       " '592',\n",
       " '60',\n",
       " '600',\n",
       " '601',\n",
       " '61',\n",
       " '610',\n",
       " '62',\n",
       " '624',\n",
       " '63',\n",
       " '64',\n",
       " '640000',\n",
       " '642',\n",
       " '65',\n",
       " '658',\n",
       " '659',\n",
       " '66',\n",
       " '660',\n",
       " '68',\n",
       " '68000',\n",
       " '697',\n",
       " '6th',\n",
       " '70',\n",
       " '700',\n",
       " '70000',\n",
       " '700m',\n",
       " '71',\n",
       " '714',\n",
       " '715',\n",
       " '716',\n",
       " '73',\n",
       " '730000',\n",
       " '736',\n",
       " '742',\n",
       " '74th',\n",
       " '75',\n",
       " '76th',\n",
       " '77',\n",
       " '770',\n",
       " '78',\n",
       " '79',\n",
       " '7th',\n",
       " '80',\n",
       " '800',\n",
       " '805',\n",
       " '81',\n",
       " '83',\n",
       " '84',\n",
       " '842',\n",
       " '848',\n",
       " '85',\n",
       " '86',\n",
       " '87',\n",
       " '89',\n",
       " '89000',\n",
       " '899',\n",
       " '90',\n",
       " '90th',\n",
       " '91',\n",
       " '919',\n",
       " '92',\n",
       " '94',\n",
       " '95',\n",
       " '96',\n",
       " '970',\n",
       " '98',\n",
       " '989',\n",
       " '9d',\n",
       " '9th',\n",
       " 'a161',\n",
       " 'a269',\n",
       " 'aaa',\n",
       " 'aabenraa',\n",
       " 'aaj',\n",
       " 'aam',\n",
       " 'aaron',\n",
       " 'aayi',\n",
       " 'ab',\n",
       " 'abandoned',\n",
       " 'abarat',\n",
       " 'abbas',\n",
       " 'abbey',\n",
       " 'abbreviated',\n",
       " 'abbreviation',\n",
       " 'abdol',\n",
       " 'abdoulaye',\n",
       " 'abdul',\n",
       " 'abdurrahman',\n",
       " 'abe',\n",
       " 'abella',\n",
       " 'abellu',\n",
       " 'abellū',\n",
       " 'abgarm',\n",
       " 'abilene',\n",
       " 'ability',\n",
       " 'ablalū',\n",
       " 'able',\n",
       " 'ablū',\n",
       " 'about',\n",
       " 'above',\n",
       " 'abraham',\n",
       " 'abreast',\n",
       " 'abstracted',\n",
       " 'abuse',\n",
       " 'academic',\n",
       " 'academics',\n",
       " 'academies',\n",
       " 'academy',\n",
       " 'acadians',\n",
       " 'accelerate',\n",
       " 'accept',\n",
       " 'accepted',\n",
       " 'accidents',\n",
       " 'acclaimed',\n",
       " 'accommodate',\n",
       " 'accompanied',\n",
       " 'according',\n",
       " 'account',\n",
       " 'accountant',\n",
       " 'accredited',\n",
       " 'ace',\n",
       " 'acevedo',\n",
       " 'achieved',\n",
       " 'achievement',\n",
       " 'achuthanandan',\n",
       " 'acker',\n",
       " 'acoustic',\n",
       " 'acquire',\n",
       " 'acquired',\n",
       " 'acquiring',\n",
       " 'acre',\n",
       " 'acres',\n",
       " 'acrodonta',\n",
       " 'across',\n",
       " 'acrotriche',\n",
       " 'acrotricheacrotriche',\n",
       " 'acting',\n",
       " 'actinidiaceae',\n",
       " 'action',\n",
       " 'actions',\n",
       " 'active',\n",
       " 'actively',\n",
       " 'activity',\n",
       " 'actor',\n",
       " 'actors',\n",
       " 'actress',\n",
       " 'acts',\n",
       " 'adamar',\n",
       " 'adams',\n",
       " 'adaptation',\n",
       " 'adaptations',\n",
       " 'adapted',\n",
       " 'adapts',\n",
       " 'adavigollarahalli',\n",
       " 'adcock',\n",
       " 'added',\n",
       " 'addition',\n",
       " 'additional',\n",
       " 'additionally',\n",
       " 'address',\n",
       " 'addressing',\n",
       " 'adelaide',\n",
       " 'adirondack',\n",
       " 'adjacent',\n",
       " 'adjoining',\n",
       " 'adjunct',\n",
       " 'adler',\n",
       " 'administered',\n",
       " 'administration',\n",
       " 'administrative',\n",
       " 'administratively',\n",
       " 'administrator',\n",
       " 'admitted',\n",
       " 'adopted',\n",
       " 'adsl',\n",
       " 'adt',\n",
       " 'adult',\n",
       " 'adults',\n",
       " 'advanced',\n",
       " 'adventist',\n",
       " 'adventure',\n",
       " 'adventures',\n",
       " 'advertising',\n",
       " 'advice',\n",
       " 'advocate',\n",
       " 'advocates',\n",
       " 'advocating',\n",
       " 'aegon',\n",
       " 'aermacchi',\n",
       " 'aerocom',\n",
       " 'aeronautica',\n",
       " 'aeroplane',\n",
       " 'aeshna',\n",
       " 'aeshnidae',\n",
       " 'affairs',\n",
       " 'affiliated',\n",
       " 'affiliation',\n",
       " 'affinis',\n",
       " 'afford',\n",
       " 'afghanistan',\n",
       " 'aforementioned',\n",
       " 'africa',\n",
       " 'african',\n",
       " 'afrikaans',\n",
       " 'afroarctia',\n",
       " 'after',\n",
       " 'aftermath',\n",
       " 'ag',\n",
       " 'again',\n",
       " 'against',\n",
       " 'agastache',\n",
       " 'agathosma',\n",
       " 'age',\n",
       " 'agent',\n",
       " 'agents',\n",
       " 'ages',\n",
       " 'aggregata',\n",
       " 'agile',\n",
       " 'aging',\n",
       " 'ago',\n",
       " 'agreed',\n",
       " 'agreement',\n",
       " 'agricultural',\n",
       " 'agriculture',\n",
       " 'ahar',\n",
       " 'ahead',\n",
       " 'ahmad',\n",
       " 'ahmadiyya',\n",
       " 'aichi',\n",
       " 'aid',\n",
       " 'aided',\n",
       " 'aids',\n",
       " 'aik',\n",
       " 'aim',\n",
       " 'aimed',\n",
       " 'ain',\n",
       " 'aiphanes',\n",
       " 'air',\n",
       " 'aircraft',\n",
       " 'aire',\n",
       " 'aired',\n",
       " 'aires',\n",
       " 'airframe',\n",
       " 'airfreight',\n",
       " 'airline',\n",
       " 'airliner',\n",
       " 'airlines',\n",
       " 'airman',\n",
       " 'airport',\n",
       " 'airports',\n",
       " 'aisne',\n",
       " 'aitken',\n",
       " 'aix',\n",
       " 'ajax',\n",
       " 'ak',\n",
       " 'akademik',\n",
       " 'akhund',\n",
       " 'akimoto',\n",
       " 'al',\n",
       " 'alabama',\n",
       " 'alajnihah',\n",
       " 'alamanac',\n",
       " 'alameda',\n",
       " 'alan',\n",
       " 'alarm',\n",
       " 'alasdair',\n",
       " 'alaska',\n",
       " 'alastair',\n",
       " 'albania',\n",
       " 'albanian',\n",
       " 'albany',\n",
       " 'albert',\n",
       " 'album',\n",
       " 'albums',\n",
       " 'albury',\n",
       " 'alcaston',\n",
       " 'aleksis',\n",
       " 'alenia',\n",
       " 'aleppo',\n",
       " 'alex',\n",
       " 'alexander',\n",
       " 'alexandra',\n",
       " 'alford',\n",
       " 'alfred',\n",
       " 'algae',\n",
       " 'algeria',\n",
       " 'ali',\n",
       " 'alice',\n",
       " 'aliciella',\n",
       " 'alison',\n",
       " 'alizé',\n",
       " 'all',\n",
       " 'allahverdi',\n",
       " 'allan',\n",
       " 'allen',\n",
       " 'allergies',\n",
       " 'allergology',\n",
       " 'alliance',\n",
       " 'allied',\n",
       " 'allies',\n",
       " 'alligator',\n",
       " 'allowed',\n",
       " 'allred',\n",
       " 'ally',\n",
       " 'allāhverdī',\n",
       " 'almanac',\n",
       " 'almost',\n",
       " 'almshouse',\n",
       " 'alone',\n",
       " 'along',\n",
       " 'alongside',\n",
       " 'alper',\n",
       " 'alphard',\n",
       " 'alphonsus',\n",
       " 'alpine',\n",
       " 'alps',\n",
       " 'already',\n",
       " 'also',\n",
       " 'altay',\n",
       " 'alternate',\n",
       " 'alternative',\n",
       " 'alternatively',\n",
       " 'alternifolia',\n",
       " 'although',\n",
       " 'altitude',\n",
       " 'always',\n",
       " 'amaral',\n",
       " 'amateur',\n",
       " 'amazing',\n",
       " 'amazon',\n",
       " 'amazonas',\n",
       " 'amazonetta',\n",
       " 'ambassa',\n",
       " 'ambassador',\n",
       " 'ambigram',\n",
       " 'amblin',\n",
       " 'ambuchanania',\n",
       " 'amc',\n",
       " 'amerbach',\n",
       " 'america',\n",
       " 'americade',\n",
       " 'american',\n",
       " 'americana',\n",
       " 'americans',\n",
       " 'americas',\n",
       " 'ameriprise',\n",
       " 'amiga',\n",
       " 'aminuddin',\n",
       " 'amirah',\n",
       " 'ammodytidae',\n",
       " 'amoenus',\n",
       " 'amol',\n",
       " 'among',\n",
       " 'amongst',\n",
       " 'amount',\n",
       " 'amphibious',\n",
       " 'amphitheatre',\n",
       " 'amputated',\n",
       " 'amqiyah',\n",
       " 'amsterdam',\n",
       " 'amu',\n",
       " 'amur',\n",
       " 'amurri',\n",
       " 'amy',\n",
       " 'an',\n",
       " 'anaheim',\n",
       " 'analyses',\n",
       " 'analyst',\n",
       " 'analyzing',\n",
       " 'anand',\n",
       " 'anarchist',\n",
       " 'anarcho',\n",
       " 'anatolia',\n",
       " 'ancestor',\n",
       " 'ancient',\n",
       " 'and',\n",
       " 'anderegg',\n",
       " 'anderson',\n",
       " 'andersson',\n",
       " 'andesitic',\n",
       " 'andika',\n",
       " 'andrea',\n",
       " 'andrew',\n",
       " 'andy',\n",
       " 'anenii',\n",
       " 'angel',\n",
       " 'angeles',\n",
       " 'angelica',\n",
       " 'angels',\n",
       " 'anglican',\n",
       " 'angola',\n",
       " 'angul',\n",
       " 'angwin',\n",
       " 'anic',\n",
       " 'animal',\n",
       " 'animated',\n",
       " 'animation',\n",
       " 'anime',\n",
       " 'anjali',\n",
       " 'ankara',\n",
       " 'ankawi',\n",
       " 'ann',\n",
       " 'anne',\n",
       " 'annie',\n",
       " 'anniversary',\n",
       " 'annonaceae',\n",
       " 'announced',\n",
       " 'announcer',\n",
       " 'annual',\n",
       " 'annuities',\n",
       " 'annum',\n",
       " 'another',\n",
       " 'answers',\n",
       " 'antaeotricha',\n",
       " 'antalffy',\n",
       " 'antanas',\n",
       " 'antarctic',\n",
       " 'anthelidae',\n",
       " 'anthidium',\n",
       " 'anthology',\n",
       " 'anthony',\n",
       " 'anthropologist',\n",
       " 'anthropomorphic',\n",
       " 'anthurium',\n",
       " 'anti',\n",
       " 'antimilitarism',\n",
       " 'antonio',\n",
       " 'antsiranana',\n",
       " 'any',\n",
       " 'anymore',\n",
       " 'anything',\n",
       " 'ao',\n",
       " 'aoba',\n",
       " 'aon',\n",
       " 'apamea',\n",
       " 'apes',\n",
       " 'apocalypse',\n",
       " 'apocynaceae',\n",
       " 'apostles',\n",
       " 'appalachians',\n",
       " 'apparatus',\n",
       " 'appeal',\n",
       " 'appear',\n",
       " 'appearance',\n",
       " 'appearances',\n",
       " 'appeared',\n",
       " 'appears',\n",
       " 'appelbaum',\n",
       " 'appliances',\n",
       " 'application',\n",
       " 'applied',\n",
       " 'applies',\n",
       " 'appointed',\n",
       " 'appointment',\n",
       " 'apprentice',\n",
       " 'approach',\n",
       " 'approximately',\n",
       " 'april',\n",
       " 'aptor',\n",
       " 'aqcheh',\n",
       " 'aquilegia',\n",
       " 'aquino',\n",
       " 'aquitaine',\n",
       " 'ar',\n",
       " 'arab',\n",
       " 'arabia',\n",
       " 'arabic',\n",
       " 'araceae',\n",
       " 'arakelots',\n",
       " 'araliaceae',\n",
       " 'aranđelovac',\n",
       " 'arbor',\n",
       " 'arboreal',\n",
       " 'arc',\n",
       " 'arcadia',\n",
       " 'arcand',\n",
       " 'arceuthobium',\n",
       " 'arch',\n",
       " 'archaeological',\n",
       " 'archaeology',\n",
       " 'archdeaconry',\n",
       " 'archdiocese',\n",
       " 'archduke',\n",
       " 'arched',\n",
       " 'arches',\n",
       " 'archibald',\n",
       " 'archipelago',\n",
       " 'architect',\n",
       " 'architects',\n",
       " 'architectural',\n",
       " 'architecture',\n",
       " 'archive',\n",
       " 'arctic',\n",
       " 'arctiidae',\n",
       " 'ardabil',\n",
       " 'ardal',\n",
       " 'are',\n",
       " 'area',\n",
       " 'areas',\n",
       " 'arecaceae',\n",
       " 'areheart',\n",
       " 'arewhen',\n",
       " 'argel',\n",
       " 'argentea',\n",
       " 'argentina',\n",
       " 'argentine',\n",
       " 'argentinian',\n",
       " 'argued',\n",
       " 'argues',\n",
       " 'ari',\n",
       " 'arid',\n",
       " 'ariel',\n",
       " 'arieş',\n",
       " 'arieşul',\n",
       " 'arises',\n",
       " 'arizona',\n",
       " 'ariège',\n",
       " 'arkh',\n",
       " 'arkhangelsky',\n",
       " 'arm',\n",
       " 'arman',\n",
       " 'armenia',\n",
       " ...]"
      ]
     },
     "execution_count": 15,
     "metadata": {},
     "output_type": "execute_result"
    }
   ],
   "source": [
    "count_vectorizer.get_feature_names()"
   ]
  },
  {
   "cell_type": "markdown",
   "id": "641fe17f",
   "metadata": {},
   "source": [
    "## TF-IDF\n",
    "\n",
    "Occurrence counting is a good start but there is a downside to it. Longer documents will have higher average count values than shorter documents, even though they might talk about the same topics. To avoid these potential discrepancies we could divide the number of occurrences of each word in a document by the total number of words in the document. These new features are called Term Frequencies (TF).  \n",
    "Another refinement on top of TF is to downscale weights for words that occur in many documents in the corpus (a large and unstructured set of texts) and are therefore less informative than those that occur only in a smaller portion of the corpus.  \n",
    "These two techniques are called **TF-IDF**, which means **Term Frequency** times **Inverse Document Frequency**.  \n",
    "TF-IDF is a common term weighting scheme in information retrieval, that has also found good use in document classification.\n",
    "\n",
    "Therefore, after creating count vectors using `CountVectorizer`, we transform them to TF-IDF representation using `TFidfTransformer`."
   ]
  },
  {
   "cell_type": "code",
   "execution_count": 16,
   "id": "67566ceb",
   "metadata": {},
   "outputs": [
    {
     "data": {
      "text/plain": [
       "(1000, 10145)"
      ]
     },
     "execution_count": 16,
     "metadata": {},
     "output_type": "execute_result"
    }
   ],
   "source": [
    "tfidf_transformer = TfidfTransformer()\n",
    "training_X_tfidf_vectors = tfidf_transformer.fit_transform(training_X_count_vectors)\n",
    "training_X_tfidf_vectors.shape"
   ]
  },
  {
   "cell_type": "markdown",
   "id": "a31474ae",
   "metadata": {},
   "source": [
    "Note that we passed the vectors from the `CountVectorizer` to `tfidf_transformer` to apply TF-IDF on them.\n",
    "\n",
    "Let's take a look at the first TF-IDF vector (in sparse matrix format):"
   ]
  },
  {
   "cell_type": "code",
   "execution_count": 17,
   "id": "38b804bf",
   "metadata": {},
   "outputs": [
    {
     "name": "stdout",
     "output_type": "stream",
     "text": [
      "  (0, 9856)\t0.0942995118353981\n",
      "  (0, 9607)\t0.07955557167349132\n",
      "  (0, 9505)\t0.07528927900839194\n",
      "  (0, 9367)\t0.11136324958187363\n",
      "  (0, 9286)\t0.1583187764605536\n",
      "  (0, 9094)\t0.10473085762771475\n",
      "  (0, 8996)\t0.13083170795623364\n",
      "  (0, 8945)\t0.09837622966924833\n",
      "  (0, 8944)\t0.07479619855835666\n",
      "  (0, 7783)\t0.1583187764605536\n",
      "  (0, 7724)\t0.4749563293816607\n",
      "  (0, 6586)\t0.1583187764605536\n",
      "  (0, 6401)\t0.08508931455594339\n",
      "  (0, 6217)\t0.0765727534410944\n",
      "  (0, 6175)\t0.13421395216599696\n",
      "  (0, 6155)\t0.12300584714746993\n",
      "  (0, 6126)\t0.10779739629542204\n",
      "  (0, 6035)\t0.3171185421374632\n",
      "  (0, 5903)\t0.1583187764605536\n",
      "  (0, 5704)\t0.14311032560850567\n",
      "  (0, 5603)\t0.1583187764605536\n",
      "  (0, 5178)\t0.11724927172828671\n",
      "  (0, 4823)\t0.1583187764605536\n",
      "  (0, 4724)\t0.14942240301804485\n",
      "  (0, 4700)\t0.04481013284659725\n",
      "  (0, 4681)\t0.050290239992513454\n",
      "  (0, 4536)\t0.10898593650180571\n",
      "  (0, 4125)\t0.14942240301804485\n",
      "  (0, 3896)\t0.14942240301804485\n",
      "  (0, 3689)\t0.12300584714746993\n",
      "  (0, 3644)\t0.05392513884027083\n",
      "  (0, 3639)\t0.13821429799951782\n",
      "  (0, 2932)\t0.1583187764605536\n",
      "  (0, 2741)\t0.1583187764605536\n",
      "  (0, 2419)\t0.07226614521462986\n",
      "  (0, 2263)\t0.14942240301804485\n",
      "  (0, 1915)\t0.10570618071248773\n",
      "  (0, 1902)\t0.14942240301804485\n",
      "  (0, 1820)\t0.1583187764605536\n",
      "  (0, 1725)\t0.043897054219523154\n",
      "  (0, 1328)\t0.1583187764605536\n",
      "  (0, 853)\t0.030980469703002222\n",
      "  (0, 683)\t0.0942995118353981\n",
      "  (0, 455)\t0.13421395216599696\n",
      "  (0, 323)\t0.13421395216599696\n",
      "  (0, 77)\t0.1583187764605536\n"
     ]
    }
   ],
   "source": [
    "print(training_X_tfidf_vectors[0])"
   ]
  },
  {
   "cell_type": "markdown",
   "id": "a59fdbc5",
   "metadata": {},
   "source": [
    "Having our training set converted to TF-IDF feature vectors, we can now train a model."
   ]
  },
  {
   "cell_type": "markdown",
   "id": "02538089",
   "metadata": {},
   "source": [
    "## Training a Classifier\n",
    "\n",
    "Now that we have our features, we can train a classifier to try to predict the labels. Let’s start with a naïve Bayes classifier, which provides a nice baseline for this task. Scikit-learn includes several variants of this classifier. Based on their documentation the one most suitable for word counts is the multinomial variant:"
   ]
  },
  {
   "cell_type": "code",
   "execution_count": 18,
   "id": "b03014cd",
   "metadata": {},
   "outputs": [
    {
     "data": {
      "text/plain": [
       "MultinomialNB()"
      ]
     },
     "execution_count": 18,
     "metadata": {},
     "output_type": "execute_result"
    }
   ],
   "source": [
    "MultinomialNB_Model = MultinomialNB()\n",
    "MultinomialNB_Model.fit(training_X_tfidf_vectors, training_y)"
   ]
  },
  {
   "cell_type": "markdown",
   "id": "70b1263f",
   "metadata": {},
   "source": [
    "Now that we trained a model based on training set, we could try to predict the label of a new document using our model. However, we need to extract the TF-IDF feature vector of the new document using almost the same feature extracting steps as before. The only difference is that we call `transform()` instead of `fit_transform()` on transformers (`CountVectorizer` and `TFidfTransformer`), since they have already been fit on the training set:"
   ]
  },
  {
   "cell_type": "code",
   "execution_count": 19,
   "id": "6a2a167a",
   "metadata": {},
   "outputs": [],
   "source": [
    "new_document = ['The Greater Hairy-Winged Bat (Harpiocephalus mordax) is a species of vesper bat in the \\\n",
    "                Vespertilionidae family.It can be found in the following countries: Laos Malaysia Myanmar and Thailand.'] \n",
    "                #content copied from the test set, and actual label is 9."
   ]
  },
  {
   "cell_type": "code",
   "execution_count": 20,
   "id": "ecceb292",
   "metadata": {},
   "outputs": [
    {
     "data": {
      "text/plain": [
       "<1x10145 sparse matrix of type '<class 'numpy.int64'>'\n",
       "\twith 19 stored elements in Compressed Sparse Row format>"
      ]
     },
     "execution_count": 20,
     "metadata": {},
     "output_type": "execute_result"
    }
   ],
   "source": [
    "new_document_count_vector = count_vectorizer.transform(new_document)\n",
    "new_document_count_vector"
   ]
  },
  {
   "cell_type": "code",
   "execution_count": 21,
   "id": "d1e0b021",
   "metadata": {},
   "outputs": [
    {
     "data": {
      "text/plain": [
       "<1x10145 sparse matrix of type '<class 'numpy.float64'>'\n",
       "\twith 19 stored elements in Compressed Sparse Row format>"
      ]
     },
     "execution_count": 21,
     "metadata": {},
     "output_type": "execute_result"
    }
   ],
   "source": [
    "new_document_tfidf_vector = tfidf_transformer.transform(new_document_count_vector)\n",
    "new_document_tfidf_vector"
   ]
  },
  {
   "cell_type": "code",
   "execution_count": 22,
   "id": "5c928c63",
   "metadata": {},
   "outputs": [
    {
     "data": {
      "text/plain": [
       "array([9], dtype=int64)"
      ]
     },
     "execution_count": 22,
     "metadata": {},
     "output_type": "execute_result"
    }
   ],
   "source": [
    "predicted = MultinomialNB_Model.predict(new_document_tfidf_vector)\n",
    "predicted"
   ]
  },
  {
   "cell_type": "markdown",
   "id": "00fbbb36",
   "metadata": {},
   "source": [
    "## Building a Pipeline\n",
    "\n",
    "Instead of all the steps we took from `vectorizer` to `transformer` to `classifier`, we could use a `Pipeline` class that behaves like a compound classifier. A pipeline sequentially applies a list of transforms and a final estimator. Intermediate steps of the pipeline must be `transforms`, that is, they must implement `fit` and `transform` methods. The final estimator only needs to implement `fit`. Each step in a pipeline is a tuple. The first element is the name we give to a step as a string, and the second element is the transformer/classifier object."
   ]
  },
  {
   "cell_type": "code",
   "execution_count": 23,
   "id": "20d00df5",
   "metadata": {},
   "outputs": [],
   "source": [
    "MultinomialNB_pipeline = Pipeline([('count_vectorizer', CountVectorizer()),\n",
    "                                   ('tfidf_transformer', TfidfTransformer()),\n",
    "                                   ('MultinomialNB', MultinomialNB()),\n",
    "])"
   ]
  },
  {
   "cell_type": "markdown",
   "id": "9a5f0b5b",
   "metadata": {},
   "source": [
    "Using our pipeline, all we need to do to train our model is to `fit` our pipeline with our training data."
   ]
  },
  {
   "cell_type": "code",
   "execution_count": 24,
   "id": "c31eed43",
   "metadata": {},
   "outputs": [
    {
     "data": {
      "text/plain": [
       "Pipeline(steps=[('count_vectorizer', CountVectorizer()),\n",
       "                ('tfidf_transformer', TfidfTransformer()),\n",
       "                ('MultinomialNB', MultinomialNB())])"
      ]
     },
     "execution_count": 24,
     "metadata": {},
     "output_type": "execute_result"
    }
   ],
   "source": [
    "MultinomialNB_pipeline.fit(training_X, training_y)"
   ]
  },
  {
   "cell_type": "markdown",
   "id": "bd3a8388",
   "metadata": {},
   "source": [
    "now we can predict a new document using our pipeline:"
   ]
  },
  {
   "cell_type": "code",
   "execution_count": 25,
   "id": "c222e126",
   "metadata": {},
   "outputs": [
    {
     "data": {
      "text/plain": [
       "array([9], dtype=int64)"
      ]
     },
     "execution_count": 25,
     "metadata": {},
     "output_type": "execute_result"
    }
   ],
   "source": [
    "MultinomialNB_pipeline.predict(new_document)"
   ]
  },
  {
   "cell_type": "markdown",
   "id": "6b69f313",
   "metadata": {},
   "source": [
    "## Evaluating on Test set\n",
    "\n",
    "Let's evaluate our model's performance on test set. First we need to predict the labels for `testing_X`, then we can create a confusion matrix using actual and predicted labels:"
   ]
  },
  {
   "cell_type": "code",
   "execution_count": 26,
   "id": "6a8d8762",
   "metadata": {},
   "outputs": [],
   "source": [
    "predicted_y = MultinomialNB_pipeline.predict(testing_X)"
   ]
  },
  {
   "cell_type": "code",
   "execution_count": 18,
   "id": "94be3d4d",
   "metadata": {},
   "outputs": [],
   "source": [
    "def plot_the_confusion_matrix(actual, predicted):\n",
    "    conf_mat = confusion_matrix(actual, predicted)\n",
    "    fig, ax = plt.subplots(figsize=(15,10))\n",
    "    sns.heatmap(conf_mat, annot=True, fmt='d', cmap=\"Greens\", xticklabels=range(14), yticklabels=range(14))\n",
    "    plt.ylabel('Actual')\n",
    "    plt.xlabel('Predicted')\n",
    "    plt.show()"
   ]
  },
  {
   "cell_type": "code",
   "execution_count": 28,
   "id": "8e742099",
   "metadata": {},
   "outputs": [
    {
     "data": {
      "image/png": "[encoded data removed]",
      "text/plain": [
       "<Figure size 1080x720 with 2 Axes>"
      ]
     },
     "metadata": {
      "needs_background": "light"
     },
     "output_type": "display_data"
    }
   ],
   "source": [
    "plot_the_confusion_matrix(testing_y, predicted_y)"
   ]
  },
  {
   "cell_type": "markdown",
   "id": "cd768e5c",
   "metadata": {},
   "source": [
    "As heatmap illustrates, most of the predicted labels match their actual labels. However, it's clear that we have lots of FN cases for label 2, and significant amount of FP cases for label 6. "
   ]
  },
  {
   "cell_type": "markdown",
   "id": "0cec145b",
   "metadata": {},
   "source": [
    "We can also take a look at `precision`, `recall`, and `f1-score` of the confusion matrix using `classification_report`:\n",
    "`support` is the number of samples for each label in the testing set."
   ]
  },
  {
   "cell_type": "code",
   "execution_count": 19,
   "id": "8b566a55",
   "metadata": {},
   "outputs": [],
   "source": [
    "def print_the_classification_report(actual, predicted):\n",
    "    print(metrics.classification_report(actual, predicted))"
   ]
  },
  {
   "cell_type": "code",
   "execution_count": 30,
   "id": "db186d2f",
   "metadata": {},
   "outputs": [
    {
     "name": "stdout",
     "output_type": "stream",
     "text": [
      "              precision    recall  f1-score   support\n",
      "\n",
      "           0       0.92      0.69      0.79      5000\n",
      "           1       0.95      0.94      0.94      5000\n",
      "           2       0.98      0.45      0.61      5000\n",
      "           3       0.82      0.99      0.90      5000\n",
      "           4       0.96      0.87      0.91      5000\n",
      "           5       0.98      0.77      0.86      5000\n",
      "           6       0.49      0.98      0.65      5000\n",
      "           7       0.99      0.76      0.86      5000\n",
      "           8       0.92      0.98      0.95      5000\n",
      "           9       0.87      0.88      0.88      5000\n",
      "          10       0.93      0.83      0.88      5000\n",
      "          11       0.80      0.99      0.89      5000\n",
      "          12       0.98      0.86      0.92      5000\n",
      "          13       0.82      0.87      0.84      5000\n",
      "\n",
      "    accuracy                           0.85     70000\n",
      "   macro avg       0.89      0.85      0.85     70000\n",
      "weighted avg       0.89      0.85      0.85     70000\n",
      "\n"
     ]
    }
   ],
   "source": [
    "print_the_classification_report(testing_y, predicted_y)"
   ]
  },
  {
   "cell_type": "markdown",
   "id": "ab2e3b5a",
   "metadata": {},
   "source": [
    "As can be seen, the accuracy of our model is **85.0%** which is the mean of f1-scores of all the labels.  \n",
    "Basically, considering precision and recall for each label, if we have:\n",
    "\n",
    "- **High precision** and **high recall**: The class is perfectly handled by the model\n",
    "- **High precision** and **low recall**:  The model can’t detect the class well but is highly trustable when it does\n",
    "- **Low precision** and **high recall**:  The class is well detected but the model also include points of other classes in it\n",
    "- **Low precision** and **low recall**:   The class is poorly handled by the model"
   ]
  },
  {
   "cell_type": "markdown",
   "id": "ffa44c03",
   "metadata": {},
   "source": [
    "## Fine Tunning Model's Hyperparameters\n",
    "\n",
    "So far we have used the default forms of our transformers and classifier. However, they all have many hyperparameter that we can set in order to increase the performance of our model.  \n",
    "For example, running the next cell will show us `TfidfTransformer` documents including all the parameters we can set.  "
   ]
  },
  {
   "cell_type": "code",
   "execution_count": 31,
   "id": "f58449af",
   "metadata": {},
   "outputs": [],
   "source": [
    "TfidfTransformer?"
   ]
  },
  {
   "cell_type": "markdown",
   "id": "334ec0cf",
   "metadata": {},
   "source": [
    "To find the best combination of hyperparameters for our model, one approach would be to tweak one hyperparameter at a time, fit the model, and keep track of that run's output, and then do the same thing with a new value.  \n",
    "Instead of searching for best compination of parameters manually, we could use `GridSearchCV`. `GridSearchCV` applies an exhaustive search over specified parameter values for an estimator. It also allows us to set the K-Fold **Cross Validation** value. It automatically keeps track of all the runs, and after the search is done we can get the `best_estimator_` and `best_params_` values to see which hyperparameters led to the best results, and also get the `best_score_` itself. \n",
    "\n",
    "\n",
    "For using `GridSearchCV` first we need to provide it a list of parameters. Since we are using a pipeline which has few steps, we need to prepare a list of parameters for each step, and put them all in a dictionary. First let's take a look at our pipeline and its steps:"
   ]
  },
  {
   "cell_type": "code",
   "execution_count": 32,
   "id": "e05a936b",
   "metadata": {},
   "outputs": [
    {
     "data": {
      "text/plain": [
       "Pipeline(steps=[('count_vectorizer', CountVectorizer()),\n",
       "                ('tfidf_transformer', TfidfTransformer()),\n",
       "                ('MultinomialNB', MultinomialNB())])"
      ]
     },
     "execution_count": 32,
     "metadata": {},
     "output_type": "execute_result"
    }
   ],
   "source": [
    "MultinomialNB_pipeline"
   ]
  },
  {
   "cell_type": "markdown",
   "id": "ac18ee1c",
   "metadata": {},
   "source": [
    "Now we set our parameters dictionary as follows:"
   ]
  },
  {
   "cell_type": "code",
   "execution_count": 33,
   "id": "355219eb",
   "metadata": {},
   "outputs": [],
   "source": [
    "parameters = {'count_vectorizer__ngram_range': [(1, 1), (1, 2)],\n",
    "              'count_vectorizer__min_df': [i for i in range(1, 6)],\n",
    "              'tfidf_transformer__use_idf': [True, False],  \n",
    "              'tfidf_transformer__sublinear_tf': [True, False],\n",
    "              'MultinomialNB__alpha': [0.01, 0.001]\n",
    "             }"
   ]
  },
  {
   "cell_type": "markdown",
   "id": "ee06c989",
   "metadata": {},
   "source": [
    "Note how we add the step's name, followed by double underscores prefix to the parameter's name to specify which step it belongs to. For example, `tfidf_transformer__use_idf` indicates that `use_idf` parameter belongs to the second step of our pipeline which is entitled as `tfidf_transformer`."
   ]
  },
  {
   "cell_type": "markdown",
   "id": "ab72b7d5",
   "metadata": {},
   "source": [
    "Obviously, such an exhaustive search can be expensive. If we have multiple CPU cores at our disposal, we can tell the grid searcher to try these eight parameter combinations in parallel with the n_jobs parameter. If we give this parameter a value of -1, grid search will detect how many cores are installed and use them all.\n",
    "We pass our pipeline and parameters dictionary to the `GridSearchCV`, set the `cv` and `n_jobs` values, and then fit the grid search:"
   ]
  },
  {
   "cell_type": "code",
   "execution_count": 34,
   "id": "aa9d0428",
   "metadata": {},
   "outputs": [],
   "source": [
    "grid_search = GridSearchCV(MultinomialNB_pipeline, parameters, cv=10, n_jobs=-1)"
   ]
  },
  {
   "cell_type": "code",
   "execution_count": 35,
   "id": "5aeb9965",
   "metadata": {},
   "outputs": [
    {
     "data": {
      "text/plain": [
       "GridSearchCV(cv=10,\n",
       "             estimator=Pipeline(steps=[('count_vectorizer', CountVectorizer()),\n",
       "                                       ('tfidf_transformer',\n",
       "                                        TfidfTransformer()),\n",
       "                                       ('MultinomialNB', MultinomialNB())]),\n",
       "             n_jobs=-1,\n",
       "             param_grid={'MultinomialNB__alpha': [0.01, 0.001],\n",
       "                         'count_vectorizer__min_df': [1, 2, 3, 4, 5],\n",
       "                         'count_vectorizer__ngram_range': [(1, 1), (1, 2)],\n",
       "                         'tfidf_transformer__sublinear_tf': [True, False],\n",
       "                         'tfidf_transformer__use_idf': [True, False]})"
      ]
     },
     "execution_count": 35,
     "metadata": {},
     "output_type": "execute_result"
    }
   ],
   "source": [
    "grid_search.fit(training_X, training_y)"
   ]
  },
  {
   "cell_type": "markdown",
   "id": "018d8246",
   "metadata": {},
   "source": [
    "After the grid seach is done fitting our training data, we can get the best estimator using `best_estimator_` attribute:"
   ]
  },
  {
   "cell_type": "code",
   "execution_count": 36,
   "id": "a1c18374",
   "metadata": {},
   "outputs": [
    {
     "data": {
      "text/plain": [
       "Pipeline(steps=[('count_vectorizer', CountVectorizer(ngram_range=(1, 2))),\n",
       "                ('tfidf_transformer', TfidfTransformer(use_idf=False)),\n",
       "                ('MultinomialNB', MultinomialNB(alpha=0.01))])"
      ]
     },
     "execution_count": 36,
     "metadata": {},
     "output_type": "execute_result"
    }
   ],
   "source": [
    "grid_search.best_estimator_"
   ]
  },
  {
   "cell_type": "markdown",
   "id": "2517ff72",
   "metadata": {},
   "source": [
    "Getting the best parameters using `best_params_` attribute:"
   ]
  },
  {
   "cell_type": "code",
   "execution_count": 37,
   "id": "6e802bde",
   "metadata": {},
   "outputs": [
    {
     "data": {
      "text/plain": [
       "{'MultinomialNB__alpha': 0.01,\n",
       " 'count_vectorizer__min_df': 1,\n",
       " 'count_vectorizer__ngram_range': (1, 2),\n",
       " 'tfidf_transformer__sublinear_tf': False,\n",
       " 'tfidf_transformer__use_idf': False}"
      ]
     },
     "execution_count": 37,
     "metadata": {},
     "output_type": "execute_result"
    }
   ],
   "source": [
    "grid_search.best_params_"
   ]
  },
  {
   "cell_type": "markdown",
   "id": "ebf6d316",
   "metadata": {},
   "source": [
    "Note that there are few parameters which are listed in `best_params_` and can't be found in the `best_estimator_` parameters. This is because their best value found by grid search is actually their default values, so they can be removed.\n",
    "For example, we don't need to set the `sublinear_tf` parameter to `False`, because `False` is the default value for `sublinear_tf` parameter in `TfidfTransformer()`."
   ]
  },
  {
   "cell_type": "markdown",
   "id": "baba9273",
   "metadata": {},
   "source": [
    "We can also get the best score using `best_score_` attribute:"
   ]
  },
  {
   "cell_type": "code",
   "execution_count": 38,
   "id": "855f830f",
   "metadata": {},
   "outputs": [
    {
     "data": {
      "text/plain": [
       "0.915"
      ]
     },
     "execution_count": 38,
     "metadata": {},
     "output_type": "execute_result"
    }
   ],
   "source": [
    "grid_search.best_score_"
   ]
  },
  {
   "cell_type": "markdown",
   "id": "b874669b",
   "metadata": {},
   "source": [
    "Details about each run can be obtained like this:"
   ]
  },
  {
   "cell_type": "code",
   "execution_count": 39,
   "id": "c9aad966",
   "metadata": {},
   "outputs": [],
   "source": [
    "grid_search_results = pd.DataFrame(grid_search.cv_results_)"
   ]
  },
  {
   "cell_type": "code",
   "execution_count": 40,
   "id": "7f42449e",
   "metadata": {},
   "outputs": [
    {
     "data": {
      "text/html": [
       "<div>\n",
       "<style scoped>\n",
       "    .dataframe tbody tr th:only-of-type {\n",
       "        vertical-align: middle;\n",
       "    }\n",
       "\n",
       "    .dataframe tbody tr th {\n",
       "        vertical-align: top;\n",
       "    }\n",
       "\n",
       "    .dataframe thead th {\n",
       "        text-align: right;\n",
       "    }\n",
       "</style>\n",
       "<table border=\"1\" class=\"dataframe\">\n",
       "  <thead>\n",
       "    <tr style=\"text-align: right;\">\n",
       "      <th></th>\n",
       "      <th>mean_fit_time</th>\n",
       "      <th>std_fit_time</th>\n",
       "      <th>mean_score_time</th>\n",
       "      <th>std_score_time</th>\n",
       "      <th>param_MultinomialNB__alpha</th>\n",
       "      <th>param_count_vectorizer__min_df</th>\n",
       "      <th>param_count_vectorizer__ngram_range</th>\n",
       "      <th>param_tfidf_transformer__sublinear_tf</th>\n",
       "      <th>param_tfidf_transformer__use_idf</th>\n",
       "      <th>params</th>\n",
       "      <th>...</th>\n",
       "      <th>split3_test_score</th>\n",
       "      <th>split4_test_score</th>\n",
       "      <th>split5_test_score</th>\n",
       "      <th>split6_test_score</th>\n",
       "      <th>split7_test_score</th>\n",
       "      <th>split8_test_score</th>\n",
       "      <th>split9_test_score</th>\n",
       "      <th>mean_test_score</th>\n",
       "      <th>std_test_score</th>\n",
       "      <th>rank_test_score</th>\n",
       "    </tr>\n",
       "  </thead>\n",
       "  <tbody>\n",
       "    <tr>\n",
       "      <th>0</th>\n",
       "      <td>0.162960</td>\n",
       "      <td>0.018682</td>\n",
       "      <td>0.012769</td>\n",
       "      <td>0.005633</td>\n",
       "      <td>0.01</td>\n",
       "      <td>1</td>\n",
       "      <td>(1, 1)</td>\n",
       "      <td>True</td>\n",
       "      <td>True</td>\n",
       "      <td>{'MultinomialNB__alpha': 0.01, 'count_vectoriz...</td>\n",
       "      <td>...</td>\n",
       "      <td>0.86</td>\n",
       "      <td>0.88</td>\n",
       "      <td>0.91</td>\n",
       "      <td>0.83</td>\n",
       "      <td>0.89</td>\n",
       "      <td>0.89</td>\n",
       "      <td>0.88</td>\n",
       "      <td>0.883</td>\n",
       "      <td>0.022825</td>\n",
       "      <td>51</td>\n",
       "    </tr>\n",
       "    <tr>\n",
       "      <th>1</th>\n",
       "      <td>0.125096</td>\n",
       "      <td>0.005912</td>\n",
       "      <td>0.010281</td>\n",
       "      <td>0.005152</td>\n",
       "      <td>0.01</td>\n",
       "      <td>1</td>\n",
       "      <td>(1, 1)</td>\n",
       "      <td>True</td>\n",
       "      <td>False</td>\n",
       "      <td>{'MultinomialNB__alpha': 0.01, 'count_vectoriz...</td>\n",
       "      <td>...</td>\n",
       "      <td>0.91</td>\n",
       "      <td>0.89</td>\n",
       "      <td>0.96</td>\n",
       "      <td>0.85</td>\n",
       "      <td>0.89</td>\n",
       "      <td>0.89</td>\n",
       "      <td>0.89</td>\n",
       "      <td>0.896</td>\n",
       "      <td>0.026153</td>\n",
       "      <td>28</td>\n",
       "    </tr>\n",
       "    <tr>\n",
       "      <th>2</th>\n",
       "      <td>0.136318</td>\n",
       "      <td>0.012184</td>\n",
       "      <td>0.015729</td>\n",
       "      <td>0.005698</td>\n",
       "      <td>0.01</td>\n",
       "      <td>1</td>\n",
       "      <td>(1, 1)</td>\n",
       "      <td>False</td>\n",
       "      <td>True</td>\n",
       "      <td>{'MultinomialNB__alpha': 0.01, 'count_vectoriz...</td>\n",
       "      <td>...</td>\n",
       "      <td>0.87</td>\n",
       "      <td>0.88</td>\n",
       "      <td>0.92</td>\n",
       "      <td>0.82</td>\n",
       "      <td>0.90</td>\n",
       "      <td>0.90</td>\n",
       "      <td>0.89</td>\n",
       "      <td>0.887</td>\n",
       "      <td>0.025710</td>\n",
       "      <td>46</td>\n",
       "    </tr>\n",
       "    <tr>\n",
       "      <th>3</th>\n",
       "      <td>0.153928</td>\n",
       "      <td>0.028618</td>\n",
       "      <td>0.012200</td>\n",
       "      <td>0.001600</td>\n",
       "      <td>0.01</td>\n",
       "      <td>1</td>\n",
       "      <td>(1, 1)</td>\n",
       "      <td>False</td>\n",
       "      <td>False</td>\n",
       "      <td>{'MultinomialNB__alpha': 0.01, 'count_vectoriz...</td>\n",
       "      <td>...</td>\n",
       "      <td>0.94</td>\n",
       "      <td>0.89</td>\n",
       "      <td>0.96</td>\n",
       "      <td>0.86</td>\n",
       "      <td>0.91</td>\n",
       "      <td>0.90</td>\n",
       "      <td>0.88</td>\n",
       "      <td>0.903</td>\n",
       "      <td>0.027221</td>\n",
       "      <td>14</td>\n",
       "    </tr>\n",
       "    <tr>\n",
       "      <th>4</th>\n",
       "      <td>0.372447</td>\n",
       "      <td>0.018375</td>\n",
       "      <td>0.023115</td>\n",
       "      <td>0.005351</td>\n",
       "      <td>0.01</td>\n",
       "      <td>1</td>\n",
       "      <td>(1, 2)</td>\n",
       "      <td>True</td>\n",
       "      <td>True</td>\n",
       "      <td>{'MultinomialNB__alpha': 0.01, 'count_vectoriz...</td>\n",
       "      <td>...</td>\n",
       "      <td>0.90</td>\n",
       "      <td>0.91</td>\n",
       "      <td>0.95</td>\n",
       "      <td>0.87</td>\n",
       "      <td>0.90</td>\n",
       "      <td>0.89</td>\n",
       "      <td>0.89</td>\n",
       "      <td>0.909</td>\n",
       "      <td>0.022561</td>\n",
       "      <td>2</td>\n",
       "    </tr>\n",
       "    <tr>\n",
       "      <th>...</th>\n",
       "      <td>...</td>\n",
       "      <td>...</td>\n",
       "      <td>...</td>\n",
       "      <td>...</td>\n",
       "      <td>...</td>\n",
       "      <td>...</td>\n",
       "      <td>...</td>\n",
       "      <td>...</td>\n",
       "      <td>...</td>\n",
       "      <td>...</td>\n",
       "      <td>...</td>\n",
       "      <td>...</td>\n",
       "      <td>...</td>\n",
       "      <td>...</td>\n",
       "      <td>...</td>\n",
       "      <td>...</td>\n",
       "      <td>...</td>\n",
       "      <td>...</td>\n",
       "      <td>...</td>\n",
       "      <td>...</td>\n",
       "      <td>...</td>\n",
       "    </tr>\n",
       "    <tr>\n",
       "      <th>75</th>\n",
       "      <td>0.159375</td>\n",
       "      <td>0.011692</td>\n",
       "      <td>0.017187</td>\n",
       "      <td>0.004688</td>\n",
       "      <td>0.001</td>\n",
       "      <td>5</td>\n",
       "      <td>(1, 1)</td>\n",
       "      <td>False</td>\n",
       "      <td>False</td>\n",
       "      <td>{'MultinomialNB__alpha': 0.001, 'count_vectori...</td>\n",
       "      <td>...</td>\n",
       "      <td>0.90</td>\n",
       "      <td>0.89</td>\n",
       "      <td>0.94</td>\n",
       "      <td>0.82</td>\n",
       "      <td>0.89</td>\n",
       "      <td>0.88</td>\n",
       "      <td>0.88</td>\n",
       "      <td>0.876</td>\n",
       "      <td>0.034409</td>\n",
       "      <td>63</td>\n",
       "    </tr>\n",
       "    <tr>\n",
       "      <th>76</th>\n",
       "      <td>0.348439</td>\n",
       "      <td>0.017187</td>\n",
       "      <td>0.031249</td>\n",
       "      <td>0.000003</td>\n",
       "      <td>0.001</td>\n",
       "      <td>5</td>\n",
       "      <td>(1, 2)</td>\n",
       "      <td>True</td>\n",
       "      <td>True</td>\n",
       "      <td>{'MultinomialNB__alpha': 0.001, 'count_vectori...</td>\n",
       "      <td>...</td>\n",
       "      <td>0.87</td>\n",
       "      <td>0.89</td>\n",
       "      <td>0.91</td>\n",
       "      <td>0.85</td>\n",
       "      <td>0.86</td>\n",
       "      <td>0.89</td>\n",
       "      <td>0.87</td>\n",
       "      <td>0.875</td>\n",
       "      <td>0.021095</td>\n",
       "      <td>67</td>\n",
       "    </tr>\n",
       "    <tr>\n",
       "      <th>77</th>\n",
       "      <td>0.356249</td>\n",
       "      <td>0.006250</td>\n",
       "      <td>0.029688</td>\n",
       "      <td>0.004685</td>\n",
       "      <td>0.001</td>\n",
       "      <td>5</td>\n",
       "      <td>(1, 2)</td>\n",
       "      <td>True</td>\n",
       "      <td>False</td>\n",
       "      <td>{'MultinomialNB__alpha': 0.001, 'count_vectori...</td>\n",
       "      <td>...</td>\n",
       "      <td>0.90</td>\n",
       "      <td>0.91</td>\n",
       "      <td>0.92</td>\n",
       "      <td>0.86</td>\n",
       "      <td>0.87</td>\n",
       "      <td>0.92</td>\n",
       "      <td>0.88</td>\n",
       "      <td>0.894</td>\n",
       "      <td>0.019596</td>\n",
       "      <td>37</td>\n",
       "    </tr>\n",
       "    <tr>\n",
       "      <th>78</th>\n",
       "      <td>0.356250</td>\n",
       "      <td>0.011692</td>\n",
       "      <td>0.031250</td>\n",
       "      <td>0.000005</td>\n",
       "      <td>0.001</td>\n",
       "      <td>5</td>\n",
       "      <td>(1, 2)</td>\n",
       "      <td>False</td>\n",
       "      <td>True</td>\n",
       "      <td>{'MultinomialNB__alpha': 0.001, 'count_vectori...</td>\n",
       "      <td>...</td>\n",
       "      <td>0.87</td>\n",
       "      <td>0.90</td>\n",
       "      <td>0.91</td>\n",
       "      <td>0.85</td>\n",
       "      <td>0.86</td>\n",
       "      <td>0.89</td>\n",
       "      <td>0.86</td>\n",
       "      <td>0.876</td>\n",
       "      <td>0.022891</td>\n",
       "      <td>63</td>\n",
       "    </tr>\n",
       "    <tr>\n",
       "      <th>79</th>\n",
       "      <td>0.367189</td>\n",
       "      <td>0.016012</td>\n",
       "      <td>0.024998</td>\n",
       "      <td>0.007656</td>\n",
       "      <td>0.001</td>\n",
       "      <td>5</td>\n",
       "      <td>(1, 2)</td>\n",
       "      <td>False</td>\n",
       "      <td>False</td>\n",
       "      <td>{'MultinomialNB__alpha': 0.001, 'count_vectori...</td>\n",
       "      <td>...</td>\n",
       "      <td>0.91</td>\n",
       "      <td>0.91</td>\n",
       "      <td>0.92</td>\n",
       "      <td>0.86</td>\n",
       "      <td>0.88</td>\n",
       "      <td>0.92</td>\n",
       "      <td>0.87</td>\n",
       "      <td>0.895</td>\n",
       "      <td>0.020616</td>\n",
       "      <td>35</td>\n",
       "    </tr>\n",
       "  </tbody>\n",
       "</table>\n",
       "<p>80 rows × 23 columns</p>\n",
       "</div>"
      ],
      "text/plain": [
       "    mean_fit_time  std_fit_time  mean_score_time  std_score_time  \\\n",
       "0        0.162960      0.018682         0.012769        0.005633   \n",
       "1        0.125096      0.005912         0.010281        0.005152   \n",
       "2        0.136318      0.012184         0.015729        0.005698   \n",
       "3        0.153928      0.028618         0.012200        0.001600   \n",
       "4        0.372447      0.018375         0.023115        0.005351   \n",
       "..            ...           ...              ...             ...   \n",
       "75       0.159375      0.011692         0.017187        0.004688   \n",
       "76       0.348439      0.017187         0.031249        0.000003   \n",
       "77       0.356249      0.006250         0.029688        0.004685   \n",
       "78       0.356250      0.011692         0.031250        0.000005   \n",
       "79       0.367189      0.016012         0.024998        0.007656   \n",
       "\n",
       "   param_MultinomialNB__alpha param_count_vectorizer__min_df  \\\n",
       "0                        0.01                              1   \n",
       "1                        0.01                              1   \n",
       "2                        0.01                              1   \n",
       "3                        0.01                              1   \n",
       "4                        0.01                              1   \n",
       "..                        ...                            ...   \n",
       "75                      0.001                              5   \n",
       "76                      0.001                              5   \n",
       "77                      0.001                              5   \n",
       "78                      0.001                              5   \n",
       "79                      0.001                              5   \n",
       "\n",
       "   param_count_vectorizer__ngram_range param_tfidf_transformer__sublinear_tf  \\\n",
       "0                               (1, 1)                                  True   \n",
       "1                               (1, 1)                                  True   \n",
       "2                               (1, 1)                                 False   \n",
       "3                               (1, 1)                                 False   \n",
       "4                               (1, 2)                                  True   \n",
       "..                                 ...                                   ...   \n",
       "75                              (1, 1)                                 False   \n",
       "76                              (1, 2)                                  True   \n",
       "77                              (1, 2)                                  True   \n",
       "78                              (1, 2)                                 False   \n",
       "79                              (1, 2)                                 False   \n",
       "\n",
       "   param_tfidf_transformer__use_idf  \\\n",
       "0                              True   \n",
       "1                             False   \n",
       "2                              True   \n",
       "3                             False   \n",
       "4                              True   \n",
       "..                              ...   \n",
       "75                            False   \n",
       "76                             True   \n",
       "77                            False   \n",
       "78                             True   \n",
       "79                            False   \n",
       "\n",
       "                                               params  ...  split3_test_score  \\\n",
       "0   {'MultinomialNB__alpha': 0.01, 'count_vectoriz...  ...               0.86   \n",
       "1   {'MultinomialNB__alpha': 0.01, 'count_vectoriz...  ...               0.91   \n",
       "2   {'MultinomialNB__alpha': 0.01, 'count_vectoriz...  ...               0.87   \n",
       "3   {'MultinomialNB__alpha': 0.01, 'count_vectoriz...  ...               0.94   \n",
       "4   {'MultinomialNB__alpha': 0.01, 'count_vectoriz...  ...               0.90   \n",
       "..                                                ...  ...                ...   \n",
       "75  {'MultinomialNB__alpha': 0.001, 'count_vectori...  ...               0.90   \n",
       "76  {'MultinomialNB__alpha': 0.001, 'count_vectori...  ...               0.87   \n",
       "77  {'MultinomialNB__alpha': 0.001, 'count_vectori...  ...               0.90   \n",
       "78  {'MultinomialNB__alpha': 0.001, 'count_vectori...  ...               0.87   \n",
       "79  {'MultinomialNB__alpha': 0.001, 'count_vectori...  ...               0.91   \n",
       "\n",
       "    split4_test_score  split5_test_score  split6_test_score  \\\n",
       "0                0.88               0.91               0.83   \n",
       "1                0.89               0.96               0.85   \n",
       "2                0.88               0.92               0.82   \n",
       "3                0.89               0.96               0.86   \n",
       "4                0.91               0.95               0.87   \n",
       "..                ...                ...                ...   \n",
       "75               0.89               0.94               0.82   \n",
       "76               0.89               0.91               0.85   \n",
       "77               0.91               0.92               0.86   \n",
       "78               0.90               0.91               0.85   \n",
       "79               0.91               0.92               0.86   \n",
       "\n",
       "    split7_test_score  split8_test_score  split9_test_score  mean_test_score  \\\n",
       "0                0.89               0.89               0.88            0.883   \n",
       "1                0.89               0.89               0.89            0.896   \n",
       "2                0.90               0.90               0.89            0.887   \n",
       "3                0.91               0.90               0.88            0.903   \n",
       "4                0.90               0.89               0.89            0.909   \n",
       "..                ...                ...                ...              ...   \n",
       "75               0.89               0.88               0.88            0.876   \n",
       "76               0.86               0.89               0.87            0.875   \n",
       "77               0.87               0.92               0.88            0.894   \n",
       "78               0.86               0.89               0.86            0.876   \n",
       "79               0.88               0.92               0.87            0.895   \n",
       "\n",
       "    std_test_score  rank_test_score  \n",
       "0         0.022825               51  \n",
       "1         0.026153               28  \n",
       "2         0.025710               46  \n",
       "3         0.027221               14  \n",
       "4         0.022561                2  \n",
       "..             ...              ...  \n",
       "75        0.034409               63  \n",
       "76        0.021095               67  \n",
       "77        0.019596               37  \n",
       "78        0.022891               63  \n",
       "79        0.020616               35  \n",
       "\n",
       "[80 rows x 23 columns]"
      ]
     },
     "execution_count": 40,
     "metadata": {},
     "output_type": "execute_result"
    }
   ],
   "source": [
    "grid_search_results"
   ]
  },
  {
   "cell_type": "markdown",
   "id": "62ab5bc4",
   "metadata": {},
   "source": [
    "Grid search instance behaves like a normal model. Therefore, if it's already been fitted, we can use it to predict and score our testing set. Grid search will automatically use the best estimator for predicting and scoring: "
   ]
  },
  {
   "cell_type": "code",
   "execution_count": 41,
   "id": "d726eb02",
   "metadata": {},
   "outputs": [],
   "source": [
    "predicted_y = grid_search.predict(testing_X)"
   ]
  },
  {
   "cell_type": "code",
   "execution_count": 42,
   "id": "6d8ed347",
   "metadata": {},
   "outputs": [
    {
     "data": {
      "text/plain": [
       "0.908"
      ]
     },
     "execution_count": 42,
     "metadata": {},
     "output_type": "execute_result"
    }
   ],
   "source": [
    "grid_search.score(testing_X, testing_y)"
   ]
  },
  {
   "cell_type": "code",
   "execution_count": 43,
   "id": "6b304af5",
   "metadata": {},
   "outputs": [
    {
     "data": {
      "image/png": "[encoded data removed]",
      "text/plain": [
       "<Figure size 1080x720 with 2 Axes>"
      ]
     },
     "metadata": {
      "needs_background": "light"
     },
     "output_type": "display_data"
    }
   ],
   "source": [
    "plot_the_confusion_matrix(testing_y, predicted_y)"
   ]
  },
  {
   "cell_type": "code",
   "execution_count": 44,
   "id": "ba12b692",
   "metadata": {},
   "outputs": [
    {
     "name": "stdout",
     "output_type": "stream",
     "text": [
      "              precision    recall  f1-score   support\n",
      "\n",
      "           0       0.88      0.80      0.84      5000\n",
      "           1       0.89      0.97      0.93      5000\n",
      "           2       0.91      0.74      0.82      5000\n",
      "           3       0.91      0.97      0.94      5000\n",
      "           4       0.92      0.94      0.93      5000\n",
      "           5       0.95      0.92      0.94      5000\n",
      "           6       0.83      0.92      0.87      5000\n",
      "           7       0.96      0.94      0.95      5000\n",
      "           8       0.99      0.96      0.98      5000\n",
      "           9       0.92      0.82      0.87      5000\n",
      "          10       0.86      0.91      0.88      5000\n",
      "          11       0.90      0.99      0.94      5000\n",
      "          12       0.98      0.92      0.95      5000\n",
      "          13       0.84      0.90      0.87      5000\n",
      "\n",
      "    accuracy                           0.91     70000\n",
      "   macro avg       0.91      0.91      0.91     70000\n",
      "weighted avg       0.91      0.91      0.91     70000\n",
      "\n"
     ]
    }
   ],
   "source": [
    "print_the_classification_report(testing_y, predicted_y)"
   ]
  },
  {
   "cell_type": "markdown",
   "id": "aa2d6d60",
   "metadata": {},
   "source": [
    "As can be seen from the confusion matrix and classification report, by fine tunning the hyperparameters we could enhance our model performance on the test set by **6%**, from **85%** to **91%**."
   ]
  },
  {
   "cell_type": "markdown",
   "id": "ed846c7f",
   "metadata": {},
   "source": [
    "## Finding the best model:\n",
    "\n",
    "The model we used was a Naive Bayas model, which is a very simple and as the name indicates a Naive one. Now let's try other complex models to see if we could improve the results.\n",
    "Since the process of building, training and evaluating a model, or better to say a pipeline, would be the same for all new models, we are going to automate the whole process.  \n",
    "Therefore, We are going to define a function that:\n",
    "\n",
    "1. Takes training and test sets\n",
    "2. Applies a Grid search with 10 fold cross validation on different pre-defined pipelines and parameters using the training set to find the best estimators\n",
    "3. Adds the Grid search results of each run to a list for comparison\n",
    "4. Compares the `score`'s of each `best_estimator_` on the testing set to find the best-of-all estimator.\n",
    "5. Saves the best-of-all estimator(pipeline) for deploying.\n",
    "6. Returns the Grid Search resutls list, in case we want to check or save other estimators.\n",
    "\n",
    "The advantage of using this function is, whenever we have a new training set, we can pass it to this function and it will automatically finds and saves the best model for us.\n",
    "\n",
    "\n",
    "Since our case study is a text classifiaction problem, models we are going to try are all classifiers from different categories, and some of them are known for their ability to solve such tasks (SGD, SVM):\n",
    "\n",
    "1. Multinominal Naive Bayes \n",
    "2. Nearest Neighbors Classifier\n",
    "3. Decision Tree Classifier\n",
    "4. Random Forest Classifier\n",
    "5. Stochastic Gradient Descent (SGD) Classifier\n",
    "6. Support Vector Machines (SVM)\n",
    "\n",
    "Note that for comparison purposes we add MultinomialNB once again."
   ]
  },
  {
   "cell_type": "code",
   "execution_count": 45,
   "id": "fc8f0505",
   "metadata": {},
   "outputs": [],
   "source": [
    "def find_and_save_the_best_of_all_estimator(training_X, training_y, testing_X, testing_y):\n",
    "    \n",
    "    pipelines_list = []\n",
    "    parameters_list = []\n",
    "    grid_search_list = []\n",
    "    best_score = 0.0\n",
    "    best_of_all_estimator = None\n",
    "    #---------------------------------------------------------------------------------------------\n",
    "    #MoltinomiaNB\n",
    "    MultinomialNB_pipeline = Pipeline([('count_vectorizer', CountVectorizer()),\n",
    "                                       ('tfidf_transformer', TfidfTransformer()),\n",
    "                                       ('MultinomialNB', MultinomialNB())\n",
    "                                      ])\n",
    "    \n",
    "    MultinomialNB_parameters = {'count_vectorizer__ngram_range': [(1, 1), (1, 2)],\n",
    "                                'tfidf_transformer__use_idf': [True, False], \n",
    "                                'tfidf_transformer__sublinear_tf': [True, False],\n",
    "                                'MultinomialNB__alpha': [0.01, 0.001]\n",
    "                               }\n",
    "    pipelines_list.append(MultinomialNB_pipeline)\n",
    "    parameters_list.append(MultinomialNB_parameters)\n",
    "    #---------------------------------------------------------------------------------------------\n",
    "    #KNeighborsClassifier\n",
    "    KNeighbors_pipeline = Pipeline([('count_vectorizer', CountVectorizer()),\n",
    "                                    ('tfidf_transformer', TfidfTransformer()),\n",
    "                                    ('KNeighborsClassifier', KNeighborsClassifier())\n",
    "                                   ])\n",
    "    \n",
    "    KNeighbors_parameters = {'count_vectorizer__ngram_range': [(1, 1), (1, 2)],\n",
    "                             'tfidf_transformer__use_idf': [True, False], \n",
    "                             'tfidf_transformer__sublinear_tf': [True, False],\n",
    "                             'KNeighborsClassifier__n_neighbors': [i for i in range(3, 10)],\n",
    "                             'KNeighborsClassifier__n_jobs': [-1]\n",
    "                            }\n",
    "    pipelines_list.append(KNeighbors_pipeline)\n",
    "    parameters_list.append(KNeighbors_parameters)\n",
    "    #---------------------------------------------------------------------------------------------\n",
    "    #DecisionTreeClassifier\n",
    "    DecisionTree_pipeline = Pipeline([('count_vectorizer', CountVectorizer()),\n",
    "                                      ('tfidf_transformer', TfidfTransformer()),\n",
    "                                      ('DecisionTree', DecisionTreeClassifier())\n",
    "                                     ])\n",
    "    \n",
    "    DecisionTree_parameters = {'count_vectorizer__ngram_range': [(1, 1), (1, 2)],\n",
    "                               'tfidf_transformer__use_idf': [True, False],  \n",
    "                               'tfidf_transformer__sublinear_tf': [True, False],\n",
    "                               'DecisionTree__splitter': ['best', 'random'],\n",
    "                               'DecisionTree__max_features': [None, 'auto'],\n",
    "                               'DecisionTree__random_state': [42]\n",
    "                              }\n",
    "    pipelines_list.append(DecisionTree_pipeline)\n",
    "    parameters_list.append(DecisionTree_parameters)\n",
    "    #---------------------------------------------------------------------------------------------\n",
    "    #RandomForestClassifier\n",
    "    RandomForest_pipeline = Pipeline([('count_vectorizer', CountVectorizer()),\n",
    "                                      ('tfidf_transformer', TfidfTransformer()),\n",
    "                                      ('RandomForest', RandomForestClassifier())\n",
    "                                     ])\n",
    "    \n",
    "    RandomForest_parameters = {'count_vectorizer__ngram_range': [(1, 1), (1, 2)],\n",
    "                               'tfidf_transformer__use_idf': [True, False],  \n",
    "                               'tfidf_transformer__sublinear_tf': [True, False],\n",
    "                               'RandomForest__max_features': [None, 'auto'],\n",
    "                               'RandomForest__random_state': [42],\n",
    "                               'RandomForest__bootstrap': [True, False],\n",
    "                               'RandomForest__n_jobs': [-1],\n",
    "                              }\n",
    "    pipelines_list.append(RandomForest_pipeline)\n",
    "    parameters_list.append(RandomForest_parameters)\n",
    "    #---------------------------------------------------------------------------------------------\n",
    "    #SGDClassifier\n",
    "    SGDClassifier_pipeline = Pipeline([('count_vectorizer', CountVectorizer()),\n",
    "                                       ('tfidf_transformer', TfidfTransformer()),\n",
    "                                       ('SGDClassifier', SGDClassifier())\n",
    "                                     ])\n",
    "    \n",
    "    SGDClassifier_parameters = {'count_vectorizer__ngram_range': [(1, 1), (1, 2)],\n",
    "                                'tfidf_transformer__use_idf': [True, False],  \n",
    "                                'tfidf_transformer__sublinear_tf': [True, False],\n",
    "                                'SGDClassifier__alpha': [0.01, 0.001, 0.0001],\n",
    "                                'SGDClassifier__random_state': [42],\n",
    "                                'SGDClassifier__n_jobs': [-1],\n",
    "                               }\n",
    "    pipelines_list.append(SGDClassifier_pipeline)\n",
    "    parameters_list.append(SGDClassifier_parameters)\n",
    "    #---------------------------------------------------------------------------------------------\n",
    "    #SVCClassifier\n",
    "    SVCClassifier_pipeline = Pipeline([('count_vectorizer', CountVectorizer()),\n",
    "                                       ('tfidf_transformer', TfidfTransformer()),\n",
    "                                       ('SVCClassifier', SVC())\n",
    "                                      ])\n",
    "    \n",
    "    SVCClassifier_parameters = {'count_vectorizer__ngram_range': [(1, 1), (1, 2)],\n",
    "                                'tfidf_transformer__use_idf': [True, False],  \n",
    "                                'tfidf_transformer__sublinear_tf': [True, False],\n",
    "                                'SVCClassifier__C': [1, 10, 100],\n",
    "                                'SVCClassifier__kernel': ['linear', 'poly', 'rbf', 'sigmoid'],\n",
    "                                'SVCClassifier__gamma': [10.0, 1.0, 0.1],\n",
    "                                'SVCClassifier__random_state': [42],\n",
    "                                'SVCClassifier__probability':[True]\n",
    "                               }\n",
    "    pipelines_list.append(SVCClassifier_pipeline)\n",
    "    parameters_list.append(SVCClassifier_parameters)\n",
    "    #---------------------------------------------------------------------------------------------\n",
    "\n",
    "    for pipeline, parameters in zip(pipelines_list, parameters_list):\n",
    "        grid_search = GridSearchCV(pipeline, parameters, cv=10, n_jobs=-1)\n",
    "        grid_search.fit(training_X, training_y)\n",
    "        grid_search_list.append(grid_search)\n",
    "        print(\"Accuracy of {} with best hyperparameters on Training set is {}%, and on Test set is {}%.\".format(grid_search.best_estimator_.steps[2][0], round(grid_search.best_score_ * 100, 2), round(grid_search.score(testing_X, testing_y) * 100, 2)))\n",
    "        print(\"-\"*120)\n",
    "        \n",
    "    for gs in grid_search_list:\n",
    "        gs_score = gs.score(testing_X, testing_y)\n",
    "        if gs_score > best_score:\n",
    "            best_score = gs_score\n",
    "            best_of_all_estimator = gs.best_estimator_\n",
    "    \n",
    "    print(\"Therefore, best of all estimator is:\\n {}\".format(best_of_all_estimator))\n",
    "    \n",
    "    joblib.dump(best_of_all_estimator, os.getcwd() + r\"\\best_Pipeline.pkl\")\n",
    "    print(\"Estimator saved in {}\\best_Pipeline.pkl\".format(os.getcwd()))\n",
    "    \n",
    "    return grid_search_list\n",
    "    "
   ]
  },
  {
   "cell_type": "code",
   "execution_count": 46,
   "id": "9049481c",
   "metadata": {},
   "outputs": [
    {
     "name": "stdout",
     "output_type": "stream",
     "text": [
      "Accuracy of MultinomialNB with best hyperparameters on Training set is 91.5%, and on Test set is 90.8%.\n",
      "------------------------------------------------------------------------------------------------------------------------\n",
      "Accuracy of KNeighborsClassifier with best hyperparameters on Training set is 89.0%, and on Test set is 87.38%.\n",
      "------------------------------------------------------------------------------------------------------------------------\n",
      "Accuracy of DecisionTree with best hyperparameters on Training set is 76.6%, and on Test set is 74.44%.\n",
      "------------------------------------------------------------------------------------------------------------------------\n",
      "Accuracy of RandomForest with best hyperparameters on Training set is 88.7%, and on Test set is 87.2%.\n",
      "------------------------------------------------------------------------------------------------------------------------\n",
      "Accuracy of SGDClassifier with best hyperparameters on Training set is 92.8%, and on Test set is 92.03%.\n",
      "------------------------------------------------------------------------------------------------------------------------\n",
      "Accuracy of SVCClassifier with best hyperparameters on Training set is 93.5%, and on Test set is 93.03%.\n",
      "------------------------------------------------------------------------------------------------------------------------\n",
      "Therefore, best of all estimator is:\n",
      " Pipeline(steps=[('count_vectorizer', CountVectorizer()),\n",
      "                ('tfidf_transformer', TfidfTransformer(sublinear_tf=True)),\n",
      "                ('SVCClassifier',\n",
      "                 SVC(C=10, gamma=1.0, kernel='sigmoid', probability=True,\n",
      "                     random_state=42))])\n",
      "Estimator saved in C:\\Users\\Behzad\\Desktop\\Git-Projects\\Machine-Learning - master\\Risk Alive Case Studest_Pipeline.pkl\n",
      "Wall time: 1h 4min 53s\n"
     ]
    }
   ],
   "source": [
    "%time grid_search_results_list = find_and_save_the_best_of_all_estimator(training_X, training_y, testing_X, testing_y)"
   ]
  },
  {
   "cell_type": "markdown",
   "id": "8966674d",
   "metadata": {},
   "source": [
    "Now our best of all trained model is saved, and we can easily load it and use it anywhere, including our web app.\n",
    "\n",
    "We could also save other models in the list. For example if I want to save SGD estimator (which is at index **5** of the list), I will run the next cell:"
   ]
  },
  {
   "cell_type": "code",
   "execution_count": 47,
   "id": "755eb983",
   "metadata": {},
   "outputs": [],
   "source": [
    "#joblib.dump(grid_search_results_list[5], os.getcwd() + r\"\\SGD_Pipeline.pkl\")"
   ]
  },
  {
   "cell_type": "markdown",
   "id": "eac9f84c",
   "metadata": {},
   "source": [
    "And finally let's check our best model's performance before we go to the next step:"
   ]
  },
  {
   "cell_type": "code",
   "execution_count": 49,
   "id": "4c81d5d7",
   "metadata": {},
   "outputs": [],
   "source": [
    "predicted_y = grid_search_results_list[5].predict(testing_X)"
   ]
  },
  {
   "cell_type": "code",
   "execution_count": 50,
   "id": "cf4a3671",
   "metadata": {},
   "outputs": [
    {
     "data": {
      "image/png": "[encoded data removed]",
      "text/plain": [
       "<Figure size 1080x720 with 2 Axes>"
      ]
     },
     "metadata": {
      "needs_background": "light"
     },
     "output_type": "display_data"
    }
   ],
   "source": [
    "plot_the_confusion_matrix(testing_y, predicted_y)"
   ]
  },
  {
   "cell_type": "code",
   "execution_count": 51,
   "id": "427e3683",
   "metadata": {},
   "outputs": [
    {
     "name": "stdout",
     "output_type": "stream",
     "text": [
      "              precision    recall  f1-score   support\n",
      "\n",
      "           0       0.83      0.89      0.85      5000\n",
      "           1       0.95      0.96      0.96      5000\n",
      "           2       0.90      0.85      0.88      5000\n",
      "           3       0.95      0.97      0.96      5000\n",
      "           4       0.96      0.92      0.94      5000\n",
      "           5       0.96      0.94      0.95      5000\n",
      "           6       0.88      0.92      0.90      5000\n",
      "           7       0.97      0.95      0.96      5000\n",
      "           8       0.99      0.98      0.99      5000\n",
      "           9       0.94      0.86      0.90      5000\n",
      "          10       0.90      0.92      0.91      5000\n",
      "          11       0.96      0.97      0.97      5000\n",
      "          12       0.96      0.95      0.96      5000\n",
      "          13       0.89      0.94      0.91      5000\n",
      "\n",
      "    accuracy                           0.93     70000\n",
      "   macro avg       0.93      0.93      0.93     70000\n",
      "weighted avg       0.93      0.93      0.93     70000\n",
      "\n"
     ]
    }
   ],
   "source": [
    "print_the_classification_report(testing_y, predicted_y)"
   ]
  },
  {
   "cell_type": "markdown",
   "id": "6eb7a053",
   "metadata": {},
   "source": [
    "## Most relevant features:\n",
    "\n",
    "Now that we have our best model, we can use its feature names and chi-squared statistic to find most relevant features in our dataset.\n",
    "\n",
    "The chi-squared statistic is a single number that tells you how much difference exists between your observed counts and the counts you would expect if there were no relationship at all in the population. A low value for chi-square means there is a high correlation between your two sets of data.\n",
    "\n",
    "Based on **DBpedia14** dataset's documentation, the actual labels of all 14 categories are:"
   ]
  },
  {
   "cell_type": "markdown",
   "id": "37d94631",
   "metadata": {},
   "source": [
    "1. Company \n",
    "2. EducationalInstitution \n",
    "3. Artist\n",
    "4. Athlete\n",
    "5. OfficeHolder\n",
    "6. MeanOfTransportation\n",
    "7. Building\n",
    "8. NaturalPlace\n",
    "9. Village\n",
    "10. Animal\n",
    "11. Plant\n",
    "12. Album\n",
    "13. Film\n",
    "14. WrittenWork"
   ]
  },
  {
   "cell_type": "code",
   "execution_count": 52,
   "id": "92595fe8",
   "metadata": {},
   "outputs": [],
   "source": [
    "model = joblib.load(os.getcwd() + r\"\\best_Pipeline.pkl\")"
   ]
  },
  {
   "cell_type": "code",
   "execution_count": 53,
   "id": "415fc9d1",
   "metadata": {},
   "outputs": [
    {
     "data": {
      "text/plain": [
       "Pipeline(steps=[('count_vectorizer', CountVectorizer()),\n",
       "                ('tfidf_transformer', TfidfTransformer(sublinear_tf=True)),\n",
       "                ('SVCClassifier',\n",
       "                 SVC(C=10, gamma=1.0, kernel='sigmoid', probability=True,\n",
       "                     random_state=42))])"
      ]
     },
     "execution_count": 53,
     "metadata": {},
     "output_type": "execute_result"
    }
   ],
   "source": [
    "model"
   ]
  },
  {
   "cell_type": "code",
   "execution_count": 54,
   "id": "0146c994",
   "metadata": {},
   "outputs": [],
   "source": [
    "def show_most_relevant_features(training_X, count_vectorizer, tfidf_transformer, number_of_features):\n",
    "\n",
    "    actual_labels = [\"Company\", \"EducationalInstitution\", \"Artist\", \"Athlete\", \"OfficeHolder\", \"MeanOfTransportation\",\n",
    "                     \"Building\", \"NaturalPlace\", \"Village\", \"Animal\", \"Plant\", \"Album\", \"Film\", \"WrittenWork\"]\n",
    "    \n",
    "    number_of_most_correlated_features = number_of_features\n",
    "\n",
    "    count_vectors = count_vectorizer.fit_transform(training_X)\n",
    "    tfidf_vectors = tfidf_transformer.fit_transform(count_vectors)\n",
    "\n",
    "    unigrams_column = []\n",
    "    bigrams_column = []\n",
    "\n",
    "    for i in set(training_y):\n",
    "        chi2_ranks = chi2(tfidf_vectors, training_y == i)\n",
    "        indices_of_sorted_ranks = np.argsort(chi2_ranks[0])\n",
    "        feature_names = np.array(count_vectorizer.get_feature_names())[indices_of_sorted_ranks]\n",
    "        unigrams = [name for name in feature_names if len(name.split(' ')) == 1][-number_of_most_correlated_features:]\n",
    "        bigrams = [name for name in feature_names if len(name.split(' ')) == 2][-number_of_most_correlated_features:]\n",
    "        unigrams_column.append(unigrams[::-1])\n",
    "        bigrams_column.append(bigrams[::-1])\n",
    "\n",
    "    d = {'Actual Labels': actual_labels, 'Relevant Unigram Features': unigrams_column, 'Relevant Bigram Features': bigrams_column}\n",
    "    df = pd.DataFrame(data=d)\n",
    "    return df"
   ]
  },
  {
   "cell_type": "code",
   "execution_count": 55,
   "id": "b3ba6b34",
   "metadata": {},
   "outputs": [
    {
     "data": {
      "text/html": [
       "<div>\n",
       "<style scoped>\n",
       "    .dataframe tbody tr th:only-of-type {\n",
       "        vertical-align: middle;\n",
       "    }\n",
       "\n",
       "    .dataframe tbody tr th {\n",
       "        vertical-align: top;\n",
       "    }\n",
       "\n",
       "    .dataframe thead th {\n",
       "        text-align: right;\n",
       "    }\n",
       "</style>\n",
       "<table border=\"1\" class=\"dataframe\">\n",
       "  <thead>\n",
       "    <tr style=\"text-align: right;\">\n",
       "      <th></th>\n",
       "      <th>Actual Labels</th>\n",
       "      <th>Relevant Unigram Features</th>\n",
       "      <th>Relevant Bigram Features</th>\n",
       "    </tr>\n",
       "  </thead>\n",
       "  <tbody>\n",
       "    <tr>\n",
       "      <th>0</th>\n",
       "      <td>Company</td>\n",
       "      <td>[company, products, airline, software, exchange]</td>\n",
       "      <td>[]</td>\n",
       "    </tr>\n",
       "    <tr>\n",
       "      <th>1</th>\n",
       "      <td>EducationalInstitution</td>\n",
       "      <td>[school, students, university, secondary, scho...</td>\n",
       "      <td>[]</td>\n",
       "    </tr>\n",
       "    <tr>\n",
       "      <th>2</th>\n",
       "      <td>Artist</td>\n",
       "      <td>[actress, painter, singer, poet, writer]</td>\n",
       "      <td>[]</td>\n",
       "    </tr>\n",
       "    <tr>\n",
       "      <th>3</th>\n",
       "      <td>Athlete</td>\n",
       "      <td>[footballer, football, played, league, player]</td>\n",
       "      <td>[]</td>\n",
       "    </tr>\n",
       "    <tr>\n",
       "      <th>4</th>\n",
       "      <td>OfficeHolder</td>\n",
       "      <td>[politician, party, minister, representatives,...</td>\n",
       "      <td>[]</td>\n",
       "    </tr>\n",
       "    <tr>\n",
       "      <th>5</th>\n",
       "      <td>MeanOfTransportation</td>\n",
       "      <td>[navy, class, uss, ship, royal]</td>\n",
       "      <td>[]</td>\n",
       "    </tr>\n",
       "    <tr>\n",
       "      <th>6</th>\n",
       "      <td>Building</td>\n",
       "      <td>[historic, church, register, building, places]</td>\n",
       "      <td>[]</td>\n",
       "    </tr>\n",
       "    <tr>\n",
       "      <th>7</th>\n",
       "      <td>NaturalPlace</td>\n",
       "      <td>[river, tributary, mountain, romania, lake]</td>\n",
       "      <td>[]</td>\n",
       "    </tr>\n",
       "    <tr>\n",
       "      <th>8</th>\n",
       "      <td>Village</td>\n",
       "      <td>[village, population, district, census, province]</td>\n",
       "      <td>[]</td>\n",
       "    </tr>\n",
       "    <tr>\n",
       "      <th>9</th>\n",
       "      <td>Animal</td>\n",
       "      <td>[family, moth, found, moths, genus]</td>\n",
       "      <td>[]</td>\n",
       "    </tr>\n",
       "    <tr>\n",
       "      <th>10</th>\n",
       "      <td>Plant</td>\n",
       "      <td>[flowering, plant, species, bulbophyllum, plants]</td>\n",
       "      <td>[]</td>\n",
       "    </tr>\n",
       "    <tr>\n",
       "      <th>11</th>\n",
       "      <td>Album</td>\n",
       "      <td>[album, released, records, band, live]</td>\n",
       "      <td>[]</td>\n",
       "    </tr>\n",
       "    <tr>\n",
       "      <th>12</th>\n",
       "      <td>Film</td>\n",
       "      <td>[film, directed, starring, comedy, drama]</td>\n",
       "      <td>[]</td>\n",
       "    </tr>\n",
       "    <tr>\n",
       "      <th>13</th>\n",
       "      <td>WrittenWork</td>\n",
       "      <td>[published, novel, book, newspaper, journal]</td>\n",
       "      <td>[]</td>\n",
       "    </tr>\n",
       "  </tbody>\n",
       "</table>\n",
       "</div>"
      ],
      "text/plain": [
       "             Actual Labels                          Relevant Unigram Features  \\\n",
       "0                  Company   [company, products, airline, software, exchange]   \n",
       "1   EducationalInstitution  [school, students, university, secondary, scho...   \n",
       "2                   Artist           [actress, painter, singer, poet, writer]   \n",
       "3                  Athlete     [footballer, football, played, league, player]   \n",
       "4             OfficeHolder  [politician, party, minister, representatives,...   \n",
       "5     MeanOfTransportation                    [navy, class, uss, ship, royal]   \n",
       "6                 Building     [historic, church, register, building, places]   \n",
       "7             NaturalPlace        [river, tributary, mountain, romania, lake]   \n",
       "8                  Village  [village, population, district, census, province]   \n",
       "9                   Animal                [family, moth, found, moths, genus]   \n",
       "10                   Plant  [flowering, plant, species, bulbophyllum, plants]   \n",
       "11                   Album             [album, released, records, band, live]   \n",
       "12                    Film          [film, directed, starring, comedy, drama]   \n",
       "13             WrittenWork       [published, novel, book, newspaper, journal]   \n",
       "\n",
       "   Relevant Bigram Features  \n",
       "0                        []  \n",
       "1                        []  \n",
       "2                        []  \n",
       "3                        []  \n",
       "4                        []  \n",
       "5                        []  \n",
       "6                        []  \n",
       "7                        []  \n",
       "8                        []  \n",
       "9                        []  \n",
       "10                       []  \n",
       "11                       []  \n",
       "12                       []  \n",
       "13                       []  "
      ]
     },
     "execution_count": 55,
     "metadata": {},
     "output_type": "execute_result"
    }
   ],
   "source": [
    "show_most_relevant_features(training_X, model.steps[0][1], model.steps[1][1], 5)"
   ]
  },
  {
   "cell_type": "markdown",
   "id": "e773710a",
   "metadata": {},
   "source": [
    "As can be seen, our model has done a very good job extracting the most relevant features. For some of the labels such as **Company**, **Village**, **Album**, and **Film** the most related feature is the exact title, and for most of them the extracted features are so related to actual labels.  \n",
    "Note that in each relevant features list, item located at index 0 is the most relevant.  \n",
    "Besides, although our best model just uses unigram features, I have left the bigram column to be in the dataframe, in case we want to check the most relevant features for a model that uses bigram features in the future."
   ]
  },
  {
   "cell_type": "markdown",
   "id": "7508f69e",
   "metadata": {},
   "source": [
    "## Creating a web app\n",
    "\n",
    "For creating a web app for our classifier, we are going to use Flask (to host on localhost) and eventually deploy it to Heroku (on the web).\n",
    "**Flask** is a micro web framework written in Python. It is classified as a microframework because it does not require particular tools or libraries. However, Flask supports extensions that can add application features as if they were implemented in Flask itself.\n",
    "And **Heroku** is a free cloud platform as a service supporting several programming languages, including Python.\n",
    "\n",
    "In order to build a very simple web app using Flask, first we need to creat `app.py` file as follows:"
   ]
  },
  {
   "cell_type": "code",
   "execution_count": 56,
   "id": "f99b508f",
   "metadata": {},
   "outputs": [
    {
     "name": "stdout",
     "output_type": "stream",
     "text": [
      "Overwriting app.py\n"
     ]
    }
   ],
   "source": [
    "%%writefile {'app.py'}\n",
    "from flask import Flask, render_template, url_for, request, redirect\n",
    "import joblib\n",
    "\n",
    "\n",
    "app = Flask('__name__')\n",
    "\n",
    "\n",
    "@app.route('/', methods=['POST', 'GET'])\n",
    "def index():\n",
    "    if request.method == 'POST':\n",
    "        proba_list = []\n",
    "        classifier = joblib.load(\"best_pipeline.pkl\")\n",
    "        new_content = request.form[\"content\"]\n",
    "        predicted_probabilities = classifier.predict_proba([new_content])\n",
    "        for prob in predicted_probabilities[0]:\n",
    "            proba_list.append(round(prob, 2))\n",
    "        predicted_category = classifier.predict([new_content])\n",
    "        return render_template('results.html', new_content=new_content, proba_0=proba_list[0], proba_1=proba_list[1],\n",
    "                               proba_2=proba_list[2], proba_3=proba_list[3], proba_4=proba_list[4], proba_5=proba_list[5],\n",
    "                               proba_6=proba_list[6], proba_7=proba_list[7], proba_8=proba_list[8], proba_9=proba_list[9],\n",
    "                               proba_10=proba_list[10], proba_11=proba_list[11], proba_12=proba_list[12], proba_13=proba_list[13],\n",
    "                               predicted_category=predicted_category[0])\n",
    "    else:\n",
    "        return render_template('index.html')\n",
    "\n",
    "\n",
    "if __name__ == \"__main__\":\n",
    "    app.run(debug=True)\n"
   ]
  },
  {
   "cell_type": "markdown",
   "id": "c20bd8b3",
   "metadata": {},
   "source": [
    "We use the `@app.route()` decorator to bind a function to a URL. Therefore, whenever our URL (our Website's address followed by a `/`) is visited, `index()` function is called. This route has two methods, `POST` and `GET`. The default method is `GET`, so we add the `POST` method to send HTML form data to the server.  \n",
    "The function itself does two things:\n",
    "1. It renders `index.html` template, our main webpage, until it receives a form data.\n",
    "2. When it recieves a form data, it requests the value of its textbox (with \"content\" id), loads the `best_pipeline.pkl` model from **pipelines** directory, predicts the label and probabilities of that value, and sends the results to another webpage (`results.html`) and render it.\n",
    "\n",
    "To create our web pages, first we create a `base.html` file then we create `index.html` and `results.html` files such that they inherit from the `base.html`.  \n",
    "Based on Flask documentations, all the HTML related files have to be placed in `templates` directory. So, let's create one first:"
   ]
  },
  {
   "cell_type": "code",
   "execution_count": 57,
   "id": "52e7761e",
   "metadata": {},
   "outputs": [],
   "source": [
    "directory = \"templates\"\n",
    "if not os.path.exists(directory):\n",
    "    os.makedirs(directory)"
   ]
  },
  {
   "cell_type": "code",
   "execution_count": 58,
   "id": "bc771b8e",
   "metadata": {},
   "outputs": [
    {
     "name": "stdout",
     "output_type": "stream",
     "text": [
      "Overwriting templates\\base.html\n"
     ]
    }
   ],
   "source": [
    "%%writefile {r'templates\\base.html'}\n",
    "<!DOCTYPE html>\n",
    "<html lang=\"en\">\n",
    "<head>\n",
    "    <meta charset=\"UTF-8\">\n",
    "    <meta name=\"viewport\" content=\"width=device-width, initial-scale=1.0\">\n",
    "    <meta http-equiv=\"X-UA-Compatible\" content=\"ie=edge\">\n",
    "    <link rel=\"stylesheet\" href=\"{{ url_for('static', filename='css/main.css') }}\">\n",
    "    {% block head %}{% endblock %}\n",
    "</head>\n",
    "<body>\n",
    "    {% block body %}{% endblock %}\n",
    "</body>\n",
    "</html>"
   ]
  },
  {
   "cell_type": "markdown",
   "id": "83488e2f",
   "metadata": {},
   "source": [
    "This file is a simple HTML template which uses Jinja template engine. Those `{% block %}` and `{% endblock %}` in the head and body of the code are like place holders. we are going to change the text only between these blocks in our templates.  \n",
    "Now let's create our `index.html` template:"
   ]
  },
  {
   "cell_type": "code",
   "execution_count": 59,
   "id": "36bfef39",
   "metadata": {},
   "outputs": [
    {
     "name": "stdout",
     "output_type": "stream",
     "text": [
      "Overwriting templates\\index.html\n"
     ]
    }
   ],
   "source": [
    "%%writefile {r'templates\\index.html'}\n",
    "{% extends 'base.html' %}\n",
    "\n",
    "{% block head %}\n",
    "<title>Risk Alive Case Study</title>\n",
    "{% endblock %}\n",
    "\n",
    "{% block body %}\n",
    "<div class=\"content\">\n",
    "    <h2 style=\"text-align: left\">DBpedia Text Classifier API</h2>\n",
    "    <form action=\"/\" method=\"POST\">\n",
    "        <input type=\"text\" name=\"content\" id=\"content\">\n",
    "        <input type=\"submit\" value=\"Classify\">\n",
    "    </form>\n",
    "</div>\n",
    "{% endblock %}"
   ]
  },
  {
   "cell_type": "markdown",
   "id": "73316bc3",
   "metadata": {},
   "source": [
    "Note how we specify that this template is inherited from (extends to) `base.html` in the first line.\n",
    "We implement those blocks to set a title to our page, and also to add a textbox (with id=\"content\") and button to submit the form.\n",
    "\n",
    "Then we create our `results.html` page like this:"
   ]
  },
  {
   "cell_type": "code",
   "execution_count": 60,
   "id": "e0bdbf9b",
   "metadata": {},
   "outputs": [
    {
     "name": "stdout",
     "output_type": "stream",
     "text": [
      "Overwriting templates\\results.html\n"
     ]
    }
   ],
   "source": [
    "%%writefile {r'templates\\results.html'}\n",
    "{% extends 'base.html' %}\n",
    "\n",
    "{% block head %}\n",
    "<title>Classifier Result</title>\n",
    "{% endblock %}\n",
    "\n",
    "{% block body %}\n",
    "<div class=\"content\">\n",
    "    <h2 style=\"text-align: left\">Classifier Result:</h2>\n",
    "    <table>\n",
    "        <tr>\n",
    "            <td>Text</td>\n",
    "            <td>{{ new_content }}</td>\n",
    "        </tr>\n",
    "        <tr>\n",
    "            <td>Probabilities:</td>\n",
    "            <td>\n",
    "                <table>\n",
    "                    <tr>\n",
    "                        <td> 0 </td>\n",
    "                        <td> 1 </td>\n",
    "                        <td> 2 </td>\n",
    "                        <td> 3 </td>\n",
    "                        <td> 4 </td>\n",
    "                        <td> 5 </td>\n",
    "                        <td> 6 </td>\n",
    "                        <td> 7 </td>\n",
    "                        <td> 8 </td>\n",
    "                        <td> 9 </td>\n",
    "                        <td> 10 </td>\n",
    "                        <td> 11 </td>\n",
    "                        <td> 12 </td>\n",
    "                        <td> 13 </td>\n",
    "                    </tr>\n",
    "                    <tr>\n",
    "                        <td> {{ proba_0 }} </td>\n",
    "                        <td> {{ proba_1 }} </td>\n",
    "                        <td> {{ proba_2 }} </td>\n",
    "                        <td> {{ proba_3 }} </td>\n",
    "                        <td> {{ proba_4 }} </td>\n",
    "                        <td> {{ proba_5 }} </td>\n",
    "                        <td> {{ proba_6 }} </td>\n",
    "                        <td> {{ proba_7 }} </td>\n",
    "                        <td> {{ proba_8 }} </td>\n",
    "                        <td> {{ proba_9 }} </td>\n",
    "                        <td> {{ proba_10 }} </td>\n",
    "                        <td> {{ proba_11 }} </td>\n",
    "                        <td> {{ proba_12 }} </td>\n",
    "                        <td> {{ proba_13 }} </td>\n",
    "                    </tr>\n",
    "                </table>\n",
    "            </td>\n",
    "        </tr>\n",
    "        <tr>\n",
    "            <td>Predicted Label</td>\n",
    "            <td><b>Label {{ predicted_category }}</b></td>\n",
    "        </tr>\n",
    "    </table>\n",
    "</div>\n",
    "{% endblock %}\n"
   ]
  },
  {
   "cell_type": "markdown",
   "id": "49fadae6",
   "metadata": {},
   "source": [
    "These `{{ }}` placehoders are for the variables. when we send the results to this page, values will be replaced with these placeholdrs."
   ]
  },
  {
   "cell_type": "markdown",
   "id": "5b821c01",
   "metadata": {},
   "source": [
    "In order to make the allignmants easier, we are going to add one simple css file to the project. Based on Flask documentations it needs to be placed in `static\\css` folder. So, lat's create these dictionaries first:\n"
   ]
  },
  {
   "cell_type": "code",
   "execution_count": 61,
   "id": "2af21fa2",
   "metadata": {},
   "outputs": [],
   "source": [
    "directory = \"static\\css\"\n",
    "if not os.path.exists(directory):\n",
    "    os.makedirs(directory)"
   ]
  },
  {
   "cell_type": "code",
   "execution_count": 62,
   "id": "bdb5f6ff",
   "metadata": {},
   "outputs": [
    {
     "name": "stdout",
     "output_type": "stream",
     "text": [
      "Overwriting static\\css\\main.css\n"
     ]
    }
   ],
   "source": [
    "%%writefile {r'static\\css\\main.css'}\n",
    "body, html {\n",
    "    margin: 0;\n",
    "    font-family: sans-serif;\n",
    "    background-color: lightyellow;\n",
    "}\n",
    "\n",
    ".content {\n",
    "    margin: 0 auto;\n",
    "    width: 400px;\n",
    "}\n",
    "\n",
    "table, td, th {\n",
    "    border: 1px solid #aaa;\n",
    "}\n",
    "\n",
    "table {\n",
    "    border-collapse: collapse;\n",
    "    width: 100%;\n",
    "}\n",
    "\n",
    "th {\n",
    "    height: 30px;\n",
    "}\n",
    "\n",
    "td {\n",
    "    text-align: center;\n",
    "    padding: 5px;\n",
    "}\n",
    "\n",
    ".form {\n",
    "    margin-top: 20px;\n",
    "}\n",
    "\n",
    "#content {\n",
    "    width: 70%;\n",
    "}"
   ]
  },
  {
   "cell_type": "markdown",
   "id": "67c570b6",
   "metadata": {},
   "source": [
    "Now we have all the components to run our web application. To do so:\n",
    "\n",
    "1. Open terminal window and navigate to your project folder, where app.py is located.\n",
    "2. Type `python app.py` and hit Enter.\n",
    "\n",
    "This will start our Flask web application. Now we can open our browser and go to `localhost:5000` to see the homwpage of our application which is `index.html` page:"
   ]
  },
  {
   "cell_type": "markdown",
   "id": "42f6632f",
   "metadata": {},
   "source": [
    "![Web App](images\\1.jpg \"Text Classifier API's homepage.\")"
   ]
  },
  {
   "cell_type": "markdown",
   "id": "75b53549",
   "metadata": {},
   "source": [
    "And if we provide a text in the textbox and hit `Classify` button, it will shows us results in `results.html` page:"
   ]
  },
  {
   "cell_type": "markdown",
   "id": "58830144",
   "metadata": {},
   "source": [
    "![Web App results](images\\2.jpg \"Text Classifier API's Result page.\")"
   ]
  },
  {
   "cell_type": "markdown",
   "id": "a3d8af39",
   "metadata": {},
   "source": [
    "And at this point we have successfully hosted our web application locally. \n",
    "\n",
    "## Heroku\n",
    "Now let's use `Heroku` to host our application on the internet.  To do so, youd need to follow these steps:\n",
    "\n",
    "1. Create an account on `Heroku`'s website\n",
    "2. Download and install Heroku CLI from their website\n",
    "3. Open terminal window and navigate to your project folder and activate your ven\n",
    "4. Type `Heroku login` and hit Enter. This will open a new window and let you insert your username and password\n",
    "5. Install gunicorn using `pip3 install gunicorn`\n",
    "6. Now we can freeze our requirements using `pip3 freeze > requirements.txt`. This will create a requirements.txt file in our project folder, listing all the packages required to run our app.\n",
    "7. create a file named `Procfile` in the project directory, and add this line to it and save it: `web: gunicorn app:app`. This will tell Heroku to run app.py file when receiving the repository.\n",
    "8. Install Git on your machine\n",
    "9. While you are in the project folder, type `git init` to create an empty git repository.\n",
    "10. `git add .` to add everything in our project folder.\n",
    "11. `git commit -m \"Init app\"` to commit the changes.\n",
    "12. Create a git repositore in Heroku using `heroku create flasktextclassifierapp`\n",
    "13. We could check where we are going to push our repository to by `git remote -v`. this will show us fetch and push addresses in Heroku website.\n",
    "14. Push our repository to Heroku by `git push heroku master`.\n",
    "\n",
    "At this point our app should be succesfully deployed to Heroku. We can access it from the following link:"
   ]
  },
  {
   "cell_type": "markdown",
   "id": "dc7a1233",
   "metadata": {},
   "source": [
    "Our text classifier app hosted on Heroku: [Flask Text Classifier App](https://flasktextclassifierapp.herokuapp.com/)"
   ]
  },
  {
   "cell_type": "markdown",
   "id": "c1bc6c06",
   "metadata": {},
   "source": [
    "## Future Releases\n",
    "\n",
    "After we deployed the very first version of our app, for future releases all we need to do is to:\n",
    "\n",
    "1. Make the changes to our app. This could be training a better model with different hyperparameters, or improving the web interface of our app\n",
    "2. Freeze our requirements using `pip3 freeze > requirements.txt` to update our requirements list\n",
    "3. `git add` and `git commit` all the files that need to be included in the new release\n",
    "4. Push updated repository to the Heroku using `git push heroku master`\n",
    "\n",
    "Every time we push our repository to Heroku, it increases the version of our app automatically."
   ]
  },
  {
   "cell_type": "markdown",
   "id": "8145d21e",
   "metadata": {},
   "source": [
    "# Step 2:"
   ]
  },
  {
   "cell_type": "markdown",
   "id": "0e7d3d3a",
   "metadata": {},
   "source": [
    "In second step we are going to use the entie dataset for training and testing. So, let's download the dataset first, and create our training and testing DataFrames."
   ]
  },
  {
   "cell_type": "code",
   "execution_count": 3,
   "id": "433b59ef",
   "metadata": {},
   "outputs": [
    {
     "name": "stderr",
     "output_type": "stream",
     "text": [
      "Reusing dataset d_bpedia14 (C:\\Users\\Behzad\\.cache\\huggingface\\datasets\\d_bpedia14\\dbpedia_14\\2.0.0\\7f0577ea0f4397b6b89bfe5c5f2c6b1b420990a1fc5e8538c7ab4ec40e46fa3e)\n"
     ]
    },
    {
     "data": {
      "application/vnd.jupyter.widget-view+json": {
       "model_id": "2fe406748f414d0ca670b47c97aa1f3e",
       "version_major": 2,
       "version_minor": 0
      },
      "text/plain": [
       "  0%|          | 0/2 [00:00<?, ?it/s]"
      ]
     },
     "metadata": {},
     "output_type": "display_data"
    },
    {
     "data": {
      "text/plain": [
       "DatasetDict({\n",
       "    train: Dataset({\n",
       "        features: ['label', 'title', 'content'],\n",
       "        num_rows: 560000\n",
       "    })\n",
       "    test: Dataset({\n",
       "        features: ['label', 'title', 'content'],\n",
       "        num_rows: 70000\n",
       "    })\n",
       "})"
      ]
     },
     "execution_count": 3,
     "metadata": {},
     "output_type": "execute_result"
    }
   ],
   "source": [
    "from datasets import load_dataset\n",
    "dataset = load_dataset('dbpedia_14')\n",
    "dataset"
   ]
  },
  {
   "cell_type": "code",
   "execution_count": 4,
   "id": "a2e6ebca",
   "metadata": {},
   "outputs": [],
   "source": [
    "training_df = pd.DataFrame(dataset['train'])\n",
    "testing_df = pd.DataFrame(dataset['test'])"
   ]
  },
  {
   "cell_type": "code",
   "execution_count": 5,
   "id": "8547fdf7",
   "metadata": {},
   "outputs": [
    {
     "data": {
      "text/plain": [
       "((560000, 3), (70000, 3))"
      ]
     },
     "execution_count": 5,
     "metadata": {},
     "output_type": "execute_result"
    }
   ],
   "source": [
    "training_df.shape, testing_df.shape"
   ]
  },
  {
   "cell_type": "code",
   "execution_count": 6,
   "id": "6c059ee9",
   "metadata": {},
   "outputs": [
    {
     "data": {
      "text/html": [
       "<div>\n",
       "<style scoped>\n",
       "    .dataframe tbody tr th:only-of-type {\n",
       "        vertical-align: middle;\n",
       "    }\n",
       "\n",
       "    .dataframe tbody tr th {\n",
       "        vertical-align: top;\n",
       "    }\n",
       "\n",
       "    .dataframe thead th {\n",
       "        text-align: right;\n",
       "    }\n",
       "</style>\n",
       "<table border=\"1\" class=\"dataframe\">\n",
       "  <thead>\n",
       "    <tr style=\"text-align: right;\">\n",
       "      <th></th>\n",
       "      <th>label</th>\n",
       "      <th>title</th>\n",
       "      <th>content</th>\n",
       "    </tr>\n",
       "  </thead>\n",
       "  <tbody>\n",
       "    <tr>\n",
       "      <th>0</th>\n",
       "      <td>0</td>\n",
       "      <td>E. D. Abbott Ltd</td>\n",
       "      <td>Abbott of Farnham E D Abbott Limited was a Br...</td>\n",
       "    </tr>\n",
       "    <tr>\n",
       "      <th>1</th>\n",
       "      <td>0</td>\n",
       "      <td>Schwan-Stabilo</td>\n",
       "      <td>Schwan-STABILO is a German maker of pens for ...</td>\n",
       "    </tr>\n",
       "    <tr>\n",
       "      <th>2</th>\n",
       "      <td>0</td>\n",
       "      <td>Q-workshop</td>\n",
       "      <td>Q-workshop is a Polish company located in Poz...</td>\n",
       "    </tr>\n",
       "    <tr>\n",
       "      <th>3</th>\n",
       "      <td>0</td>\n",
       "      <td>Marvell Software Solutions Israel</td>\n",
       "      <td>Marvell Software Solutions Israel known as RA...</td>\n",
       "    </tr>\n",
       "    <tr>\n",
       "      <th>4</th>\n",
       "      <td>0</td>\n",
       "      <td>Bergan Mercy Medical Center</td>\n",
       "      <td>Bergan Mercy Medical Center is a hospital loc...</td>\n",
       "    </tr>\n",
       "    <tr>\n",
       "      <th>5</th>\n",
       "      <td>0</td>\n",
       "      <td>The Unsigned Guide</td>\n",
       "      <td>The Unsigned Guide is an online contacts dire...</td>\n",
       "    </tr>\n",
       "    <tr>\n",
       "      <th>6</th>\n",
       "      <td>0</td>\n",
       "      <td>Rest of the world</td>\n",
       "      <td>Within sports and games played at the interna...</td>\n",
       "    </tr>\n",
       "    <tr>\n",
       "      <th>7</th>\n",
       "      <td>0</td>\n",
       "      <td>Globoforce</td>\n",
       "      <td>Globoforce is a multinational company co-head...</td>\n",
       "    </tr>\n",
       "    <tr>\n",
       "      <th>8</th>\n",
       "      <td>0</td>\n",
       "      <td>Rompetrol</td>\n",
       "      <td>The Rompetrol Group N.V. is a Romanian oil co...</td>\n",
       "    </tr>\n",
       "    <tr>\n",
       "      <th>9</th>\n",
       "      <td>0</td>\n",
       "      <td>Wave Accounting</td>\n",
       "      <td>Wave is the brand name for a suite of online ...</td>\n",
       "    </tr>\n",
       "    <tr>\n",
       "      <th>10</th>\n",
       "      <td>0</td>\n",
       "      <td>Angstrem (company)</td>\n",
       "      <td>Angstrem Group (Russian: ОАО «Ангстрем» named...</td>\n",
       "    </tr>\n",
       "    <tr>\n",
       "      <th>11</th>\n",
       "      <td>0</td>\n",
       "      <td>I-innovate (UK)</td>\n",
       "      <td>I-innovate (UK) is a London-based independent...</td>\n",
       "    </tr>\n",
       "    <tr>\n",
       "      <th>12</th>\n",
       "      <td>0</td>\n",
       "      <td>JVC</td>\n",
       "      <td>Victor Company of Japan Ltd (日本ビクター株式会社 Nippo...</td>\n",
       "    </tr>\n",
       "    <tr>\n",
       "      <th>13</th>\n",
       "      <td>0</td>\n",
       "      <td>Toei Bus</td>\n",
       "      <td>The Toei Bus (都営バス Toei Basu) is a bus servic...</td>\n",
       "    </tr>\n",
       "    <tr>\n",
       "      <th>14</th>\n",
       "      <td>0</td>\n",
       "      <td>Tear Drop Records</td>\n",
       "      <td>Tear Drop Records was a record label founded ...</td>\n",
       "    </tr>\n",
       "    <tr>\n",
       "      <th>15</th>\n",
       "      <td>0</td>\n",
       "      <td>Presses polytechniques et universitaires romandes</td>\n",
       "      <td>The Presses polytechniques et universitaires ...</td>\n",
       "    </tr>\n",
       "    <tr>\n",
       "      <th>16</th>\n",
       "      <td>0</td>\n",
       "      <td>Websense</td>\n",
       "      <td>Websense is a San Diego-based company special...</td>\n",
       "    </tr>\n",
       "    <tr>\n",
       "      <th>17</th>\n",
       "      <td>0</td>\n",
       "      <td>Adventist Health System</td>\n",
       "      <td>The Adventist Health System is a non-profit h...</td>\n",
       "    </tr>\n",
       "    <tr>\n",
       "      <th>18</th>\n",
       "      <td>0</td>\n",
       "      <td>CIB Bank</td>\n",
       "      <td>CIB Bank is the second-biggest commercial ban...</td>\n",
       "    </tr>\n",
       "    <tr>\n",
       "      <th>19</th>\n",
       "      <td>0</td>\n",
       "      <td>Orfanato Music Group</td>\n",
       "      <td>Orfanato Music Group (OMG) is a Puerto Rican ...</td>\n",
       "    </tr>\n",
       "  </tbody>\n",
       "</table>\n",
       "</div>"
      ],
      "text/plain": [
       "    label                                              title  \\\n",
       "0       0                                   E. D. Abbott Ltd   \n",
       "1       0                                     Schwan-Stabilo   \n",
       "2       0                                         Q-workshop   \n",
       "3       0                  Marvell Software Solutions Israel   \n",
       "4       0                        Bergan Mercy Medical Center   \n",
       "5       0                                 The Unsigned Guide   \n",
       "6       0                                  Rest of the world   \n",
       "7       0                                         Globoforce   \n",
       "8       0                                          Rompetrol   \n",
       "9       0                                    Wave Accounting   \n",
       "10      0                                 Angstrem (company)   \n",
       "11      0                                    I-innovate (UK)   \n",
       "12      0                                                JVC   \n",
       "13      0                                           Toei Bus   \n",
       "14      0                                  Tear Drop Records   \n",
       "15      0  Presses polytechniques et universitaires romandes   \n",
       "16      0                                           Websense   \n",
       "17      0                            Adventist Health System   \n",
       "18      0                                           CIB Bank   \n",
       "19      0                               Orfanato Music Group   \n",
       "\n",
       "                                              content  \n",
       "0    Abbott of Farnham E D Abbott Limited was a Br...  \n",
       "1    Schwan-STABILO is a German maker of pens for ...  \n",
       "2    Q-workshop is a Polish company located in Poz...  \n",
       "3    Marvell Software Solutions Israel known as RA...  \n",
       "4    Bergan Mercy Medical Center is a hospital loc...  \n",
       "5    The Unsigned Guide is an online contacts dire...  \n",
       "6    Within sports and games played at the interna...  \n",
       "7    Globoforce is a multinational company co-head...  \n",
       "8    The Rompetrol Group N.V. is a Romanian oil co...  \n",
       "9    Wave is the brand name for a suite of online ...  \n",
       "10   Angstrem Group (Russian: ОАО «Ангстрем» named...  \n",
       "11   I-innovate (UK) is a London-based independent...  \n",
       "12   Victor Company of Japan Ltd (日本ビクター株式会社 Nippo...  \n",
       "13   The Toei Bus (都営バス Toei Basu) is a bus servic...  \n",
       "14   Tear Drop Records was a record label founded ...  \n",
       "15   The Presses polytechniques et universitaires ...  \n",
       "16   Websense is a San Diego-based company special...  \n",
       "17   The Adventist Health System is a non-profit h...  \n",
       "18   CIB Bank is the second-biggest commercial ban...  \n",
       "19   Orfanato Music Group (OMG) is a Puerto Rican ...  "
      ]
     },
     "execution_count": 6,
     "metadata": {},
     "output_type": "execute_result"
    }
   ],
   "source": [
    "training_df.head(20)"
   ]
  },
  {
   "cell_type": "code",
   "execution_count": 7,
   "id": "e352e3a6",
   "metadata": {},
   "outputs": [
    {
     "name": "stdout",
     "output_type": "stream",
     "text": [
      "<class 'pandas.core.frame.DataFrame'>\n",
      "RangeIndex: 70000 entries, 0 to 69999\n",
      "Data columns (total 3 columns):\n",
      " #   Column   Non-Null Count  Dtype \n",
      "---  ------   --------------  ----- \n",
      " 0   label    70000 non-null  int64 \n",
      " 1   title    70000 non-null  object\n",
      " 2   content  70000 non-null  object\n",
      "dtypes: int64(1), object(2)\n",
      "memory usage: 1.6+ MB\n"
     ]
    }
   ],
   "source": [
    "testing_df.info()"
   ]
  },
  {
   "cell_type": "markdown",
   "id": "1f719f16",
   "metadata": {},
   "source": [
    "`info()` shows we don't have missing values in our training set."
   ]
  },
  {
   "cell_type": "code",
   "execution_count": 8,
   "id": "c8841790",
   "metadata": {},
   "outputs": [
    {
     "data": {
      "text/plain": [
       "0     40000\n",
       "1     40000\n",
       "2     40000\n",
       "3     40000\n",
       "4     40000\n",
       "5     40000\n",
       "6     40000\n",
       "7     40000\n",
       "8     40000\n",
       "9     40000\n",
       "10    40000\n",
       "11    40000\n",
       "12    40000\n",
       "13    40000\n",
       "Name: label, dtype: int64"
      ]
     },
     "execution_count": 8,
     "metadata": {},
     "output_type": "execute_result"
    }
   ],
   "source": [
    "training_df.label.value_counts().sort_index()"
   ]
  },
  {
   "cell_type": "markdown",
   "id": "52d0e70f",
   "metadata": {},
   "source": [
    "And this time we have a balanced dataset. having exactly 40,000 rows for each label."
   ]
  },
  {
   "cell_type": "markdown",
   "id": "d3c6bc9b",
   "metadata": {},
   "source": [
    "Let's set our training and testing X and y:"
   ]
  },
  {
   "cell_type": "code",
   "execution_count": 9,
   "id": "a786db20",
   "metadata": {},
   "outputs": [],
   "source": [
    "training_X = training_df.content\n",
    "training_y = training_df.label"
   ]
  },
  {
   "cell_type": "code",
   "execution_count": 10,
   "id": "c1fc8332",
   "metadata": {},
   "outputs": [],
   "source": [
    "testing_X = testing_df.content\n",
    "testing_y = testing_df.label"
   ]
  },
  {
   "cell_type": "markdown",
   "id": "7879102a",
   "metadata": {},
   "source": [
    "# Note\n",
    "\n",
    "Idealy, anyone with a powerfull machine and eanough time could run the following cell to find and save the best model using the function we defined in step 1."
   ]
  },
  {
   "cell_type": "code",
   "execution_count": 11,
   "id": "ca6cee46",
   "metadata": {
    "scrolled": true
   },
   "outputs": [],
   "source": [
    "#%time find_and_save_the_best_of_all_estimator(training_X, training_y, testing_X, testing_y)"
   ]
  },
  {
   "cell_type": "markdown",
   "id": "2b5d4b5f",
   "metadata": {},
   "source": [
    "However, because of the limitations I have, I won't use grid search, and try to run SGDClassifier only. This classifier has shown to be as good as SVC, with significantly faster convergence:"
   ]
  },
  {
   "cell_type": "markdown",
   "id": "29e3e966",
   "metadata": {},
   "source": [
    "# Feature Selection\n",
    "\n",
    "If we apply a CountVectorizer on the training set we will see that we have 669349 number of features. Considering each feature adds one dimention to the searching space, finding a solution for this amount of features will need a lot of time and resources. Therefore, we need to limit the size of our features to the most relevant ones in order to make the training process feasiable.\n",
    "To do that, we are going to select best 15000 features using **SelectKBest** and **chi2** scoring function, and try to train our models using these features."
   ]
  },
  {
   "cell_type": "code",
   "execution_count": 12,
   "id": "fb05ff13",
   "metadata": {},
   "outputs": [
    {
     "data": {
      "text/plain": [
       "<560000x669349 sparse matrix of type '<class 'numpy.int64'>'\n",
       "\twith 19515960 stored elements in Compressed Sparse Row format>"
      ]
     },
     "execution_count": 12,
     "metadata": {},
     "output_type": "execute_result"
    }
   ],
   "source": [
    "count_vectorizer = CountVectorizer()\n",
    "count_vectorizer.fit_transform(training_X, training_y)"
   ]
  },
  {
   "cell_type": "code",
   "execution_count": 13,
   "id": "27e62823",
   "metadata": {},
   "outputs": [],
   "source": [
    "SGDClassifier_pipeline = Pipeline([('count_vectorizer', CountVectorizer()),\n",
    "                                   ('Select_best_features', SelectKBest(score_func=chi2, k=15000)),\n",
    "                                   ('tfidf_transformer', TfidfTransformer()),\n",
    "                                   ('SGDClassifier', SGDClassifier(loss='modified_huber'))\n",
    "                                 ])"
   ]
  },
  {
   "cell_type": "code",
   "execution_count": 14,
   "id": "c488ee1b",
   "metadata": {},
   "outputs": [
    {
     "name": "stdout",
     "output_type": "stream",
     "text": [
      "Wall time: 49 s\n"
     ]
    },
    {
     "data": {
      "text/plain": [
       "Pipeline(steps=[('count_vectorizer', CountVectorizer()),\n",
       "                ('Select_best_features',\n",
       "                 SelectKBest(k=15000,\n",
       "                             score_func=<function chi2 at 0x00000253F3D711F0>)),\n",
       "                ('tfidf_transformer', TfidfTransformer()),\n",
       "                ('SGDClassifier', SGDClassifier(loss='modified_huber'))])"
      ]
     },
     "execution_count": 14,
     "metadata": {},
     "output_type": "execute_result"
    }
   ],
   "source": [
    "%time SGDClassifier_pipeline.fit(training_X, training_y)"
   ]
  },
  {
   "cell_type": "code",
   "execution_count": 15,
   "id": "eb6bba57",
   "metadata": {},
   "outputs": [
    {
     "data": {
      "text/plain": [
       "0.9784285714285714"
      ]
     },
     "execution_count": 15,
     "metadata": {},
     "output_type": "execute_result"
    }
   ],
   "source": [
    "SGDClassifier_pipeline.score(testing_X, testing_y)"
   ]
  },
  {
   "cell_type": "code",
   "execution_count": 20,
   "id": "4bac2dfe",
   "metadata": {},
   "outputs": [],
   "source": [
    "predicted_y = SGDClassifier_pipeline.predict(testing_X)"
   ]
  },
  {
   "cell_type": "code",
   "execution_count": 21,
   "id": "2f0eb093",
   "metadata": {},
   "outputs": [
    {
     "data": {
      "image/png": "[encoded data removed]",
      "text/plain": [
       "<Figure size 1080x720 with 2 Axes>"
      ]
     },
     "metadata": {
      "needs_background": "light"
     },
     "output_type": "display_data"
    }
   ],
   "source": [
    "plot_the_confusion_matrix(testing_y, predicted_y)"
   ]
  },
  {
   "cell_type": "code",
   "execution_count": 22,
   "id": "fc55f7f3",
   "metadata": {},
   "outputs": [
    {
     "name": "stdout",
     "output_type": "stream",
     "text": [
      "              precision    recall  f1-score   support\n",
      "\n",
      "           0       0.95      0.95      0.95      5000\n",
      "           1       0.98      0.98      0.98      5000\n",
      "           2       0.96      0.95      0.96      5000\n",
      "           3       0.99      0.99      0.99      5000\n",
      "           4       0.98      0.98      0.98      5000\n",
      "           5       0.98      0.99      0.98      5000\n",
      "           6       0.97      0.96      0.97      5000\n",
      "           7       0.98      0.99      0.99      5000\n",
      "           8       1.00      0.99      0.99      5000\n",
      "           9       0.99      0.99      0.99      5000\n",
      "          10       0.99      0.99      0.99      5000\n",
      "          11       0.98      0.99      0.98      5000\n",
      "          12       0.98      0.98      0.98      5000\n",
      "          13       0.97      0.97      0.97      5000\n",
      "\n",
      "    accuracy                           0.98     70000\n",
      "   macro avg       0.98      0.98      0.98     70000\n",
      "weighted avg       0.98      0.98      0.98     70000\n",
      "\n"
     ]
    }
   ],
   "source": [
    "print_the_classification_report(testing_y, predicted_y)"
   ]
  },
  {
   "cell_type": "markdown",
   "id": "94c92a37",
   "metadata": {},
   "source": [
    "Now that we have a model with higher accurecy, we should save it and release a new version of our web app to the server."
   ]
  },
  {
   "cell_type": "code",
   "execution_count": 23,
   "id": "82a7a7b7",
   "metadata": {},
   "outputs": [
    {
     "data": {
      "text/plain": [
       "['C:\\\\Users\\\\Behzad\\\\Desktop\\\\Git-Projects\\\\Machine-Learning - master\\\\Risk Alive Case Study - Copy\\\\best_Pipeline.pkl']"
      ]
     },
     "execution_count": 23,
     "metadata": {},
     "output_type": "execute_result"
    }
   ],
   "source": [
    "joblib.dump(SGDClassifier_pipeline, os.getcwd() + r\"\\best_Pipeline.pkl\")"
   ]
  },
  {
   "cell_type": "markdown",
   "id": "64920291",
   "metadata": {},
   "source": [
    "As explained in step 1, in order to release a new version, we should:\n",
    "\n",
    "\n",
    "1. Freeze our requirements using `pip3 freeze > requirements.txt` to update our requirements list\n",
    "2. `git add` and `git commit` all the files that need to be included in the new release (\"best_pipeline.pkl\" in this case)\n",
    "3. Push updated repository to the Heroku using `git push heroku master`"
   ]
  },
  {
   "cell_type": "markdown",
   "id": "1c6b7583",
   "metadata": {},
   "source": [
    "After releasing the new version, the server will restart the app with new model. Finally, We can visit the new version of our web app at:  \n",
    "[Flask Text Classifier App](https://flasktextclassifierapp.herokuapp.com/)"
   ]
  }
 ],
 "metadata": {
  "kernelspec": {
   "display_name": "Python 3",
   "language": "python",
   "name": "python3"
  },
  "language_info": {
   "codemirror_mode": {
    "name": "ipython",
    "version": 3
   },
   "file_extension": ".py",
   "mimetype": "text/x-python",
   "name": "python",
   "nbconvert_exporter": "python",
   "pygments_lexer": "ipython3",
   "version": "3.8.10"
  }
 },
 "nbformat": 4,
 "nbformat_minor": 5
}
